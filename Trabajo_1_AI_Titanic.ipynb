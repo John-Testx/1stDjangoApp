{
  "nbformat": 4,
  "nbformat_minor": 0,
  "metadata": {
    "colab": {
      "provenance": [],
      "toc_visible": true,
      "include_colab_link": true
    },
    "kernelspec": {
      "name": "python3",
      "display_name": "Python 3"
    },
    "language_info": {
      "name": "python"
    }
  },
  "cells": [
    {
      "cell_type": "markdown",
      "metadata": {
        "id": "view-in-github",
        "colab_type": "text"
      },
      "source": [
        "<a href=\"https://colab.research.google.com/github/John-Testx/1stDjangoApp/blob/main/Trabajo_1_AI_Titanic.ipynb\" target=\"_parent\"><img src=\"https://colab.research.google.com/assets/colab-badge.svg\" alt=\"Open In Colab\"/></a>"
      ]
    },
    {
      "cell_type": "markdown",
      "source": [
        "# Caso - Titanic Kaggle dataset"
      ],
      "metadata": {
        "id": "-cwg7kAFYwya"
      }
    },
    {
      "cell_type": "markdown",
      "source": [
        "Cargar dataset y librerias:\n",
        "- Pandas\n",
        "- Gráficos matplot, seaborn\n",
        "- Precisión, exactitud o medidas para verificar el modelo son las de sklearn.\n",
        "\n",
        "Leer dataset posteriormente usando pandas."
      ],
      "metadata": {
        "id": "eYsWK5PFY0F7"
      }
    },
    {
      "cell_type": "code",
      "source": [
        "import pandas as pd\n",
        "import matplotlib.pyplot as plt\n",
        "from sklearn.metrics import confusion_matrix, classification_report, accuracy_score\n",
        "import seaborn as sns\n",
        "datos = pd.read_csv(\"train.csv\")"
      ],
      "metadata": {
        "id": "pJVtfeiiO97v"
      },
      "execution_count": 117,
      "outputs": []
    },
    {
      "cell_type": "markdown",
      "source": [
        "# Investigar dataset"
      ],
      "metadata": {
        "id": "xi7No0VZmuxA"
      }
    },
    {
      "cell_type": "code",
      "source": [
        "datos.head()"
      ],
      "metadata": {
        "id": "Zgwq5RKtPBVe",
        "colab": {
          "base_uri": "https://localhost:8080/",
          "height": 258
        },
        "outputId": "23307d00-2814-4d17-9d12-12e71703a843"
      },
      "execution_count": 118,
      "outputs": [
        {
          "output_type": "execute_result",
          "data": {
            "text/plain": [
              "   PassengerId  Survived  Pclass  \\\n",
              "0            1         0       3   \n",
              "1            2         1       1   \n",
              "2            3         1       3   \n",
              "3            4         1       1   \n",
              "4            5         0       3   \n",
              "\n",
              "                                                Name     Sex   Age  SibSp  \\\n",
              "0                            Braund, Mr. Owen Harris    male  22.0      1   \n",
              "1  Cumings, Mrs. John Bradley (Florence Briggs Th...  female  38.0      1   \n",
              "2                             Heikkinen, Miss. Laina  female  26.0      0   \n",
              "3       Futrelle, Mrs. Jacques Heath (Lily May Peel)  female  35.0      1   \n",
              "4                           Allen, Mr. William Henry    male  35.0      0   \n",
              "\n",
              "   Parch            Ticket     Fare Cabin Embarked  \n",
              "0      0         A/5 21171   7.2500   NaN        S  \n",
              "1      0          PC 17599  71.2833   C85        C  \n",
              "2      0  STON/O2. 3101282   7.9250   NaN        S  \n",
              "3      0            113803  53.1000  C123        S  \n",
              "4      0            373450   8.0500   NaN        S  "
            ],
            "text/html": [
              "\n",
              "  <div id=\"df-55decbbe-3a9b-428c-817c-5b381cdfc882\" class=\"colab-df-container\">\n",
              "    <div>\n",
              "<style scoped>\n",
              "    .dataframe tbody tr th:only-of-type {\n",
              "        vertical-align: middle;\n",
              "    }\n",
              "\n",
              "    .dataframe tbody tr th {\n",
              "        vertical-align: top;\n",
              "    }\n",
              "\n",
              "    .dataframe thead th {\n",
              "        text-align: right;\n",
              "    }\n",
              "</style>\n",
              "<table border=\"1\" class=\"dataframe\">\n",
              "  <thead>\n",
              "    <tr style=\"text-align: right;\">\n",
              "      <th></th>\n",
              "      <th>PassengerId</th>\n",
              "      <th>Survived</th>\n",
              "      <th>Pclass</th>\n",
              "      <th>Name</th>\n",
              "      <th>Sex</th>\n",
              "      <th>Age</th>\n",
              "      <th>SibSp</th>\n",
              "      <th>Parch</th>\n",
              "      <th>Ticket</th>\n",
              "      <th>Fare</th>\n",
              "      <th>Cabin</th>\n",
              "      <th>Embarked</th>\n",
              "    </tr>\n",
              "  </thead>\n",
              "  <tbody>\n",
              "    <tr>\n",
              "      <th>0</th>\n",
              "      <td>1</td>\n",
              "      <td>0</td>\n",
              "      <td>3</td>\n",
              "      <td>Braund, Mr. Owen Harris</td>\n",
              "      <td>male</td>\n",
              "      <td>22.0</td>\n",
              "      <td>1</td>\n",
              "      <td>0</td>\n",
              "      <td>A/5 21171</td>\n",
              "      <td>7.2500</td>\n",
              "      <td>NaN</td>\n",
              "      <td>S</td>\n",
              "    </tr>\n",
              "    <tr>\n",
              "      <th>1</th>\n",
              "      <td>2</td>\n",
              "      <td>1</td>\n",
              "      <td>1</td>\n",
              "      <td>Cumings, Mrs. John Bradley (Florence Briggs Th...</td>\n",
              "      <td>female</td>\n",
              "      <td>38.0</td>\n",
              "      <td>1</td>\n",
              "      <td>0</td>\n",
              "      <td>PC 17599</td>\n",
              "      <td>71.2833</td>\n",
              "      <td>C85</td>\n",
              "      <td>C</td>\n",
              "    </tr>\n",
              "    <tr>\n",
              "      <th>2</th>\n",
              "      <td>3</td>\n",
              "      <td>1</td>\n",
              "      <td>3</td>\n",
              "      <td>Heikkinen, Miss. Laina</td>\n",
              "      <td>female</td>\n",
              "      <td>26.0</td>\n",
              "      <td>0</td>\n",
              "      <td>0</td>\n",
              "      <td>STON/O2. 3101282</td>\n",
              "      <td>7.9250</td>\n",
              "      <td>NaN</td>\n",
              "      <td>S</td>\n",
              "    </tr>\n",
              "    <tr>\n",
              "      <th>3</th>\n",
              "      <td>4</td>\n",
              "      <td>1</td>\n",
              "      <td>1</td>\n",
              "      <td>Futrelle, Mrs. Jacques Heath (Lily May Peel)</td>\n",
              "      <td>female</td>\n",
              "      <td>35.0</td>\n",
              "      <td>1</td>\n",
              "      <td>0</td>\n",
              "      <td>113803</td>\n",
              "      <td>53.1000</td>\n",
              "      <td>C123</td>\n",
              "      <td>S</td>\n",
              "    </tr>\n",
              "    <tr>\n",
              "      <th>4</th>\n",
              "      <td>5</td>\n",
              "      <td>0</td>\n",
              "      <td>3</td>\n",
              "      <td>Allen, Mr. William Henry</td>\n",
              "      <td>male</td>\n",
              "      <td>35.0</td>\n",
              "      <td>0</td>\n",
              "      <td>0</td>\n",
              "      <td>373450</td>\n",
              "      <td>8.0500</td>\n",
              "      <td>NaN</td>\n",
              "      <td>S</td>\n",
              "    </tr>\n",
              "  </tbody>\n",
              "</table>\n",
              "</div>\n",
              "    <div class=\"colab-df-buttons\">\n",
              "\n",
              "  <div class=\"colab-df-container\">\n",
              "    <button class=\"colab-df-convert\" onclick=\"convertToInteractive('df-55decbbe-3a9b-428c-817c-5b381cdfc882')\"\n",
              "            title=\"Convert this dataframe to an interactive table.\"\n",
              "            style=\"display:none;\">\n",
              "\n",
              "  <svg xmlns=\"http://www.w3.org/2000/svg\" height=\"24px\" viewBox=\"0 -960 960 960\">\n",
              "    <path d=\"M120-120v-720h720v720H120Zm60-500h600v-160H180v160Zm220 220h160v-160H400v160Zm0 220h160v-160H400v160ZM180-400h160v-160H180v160Zm440 0h160v-160H620v160ZM180-180h160v-160H180v160Zm440 0h160v-160H620v160Z\"/>\n",
              "  </svg>\n",
              "    </button>\n",
              "\n",
              "  <style>\n",
              "    .colab-df-container {\n",
              "      display:flex;\n",
              "      gap: 12px;\n",
              "    }\n",
              "\n",
              "    .colab-df-convert {\n",
              "      background-color: #E8F0FE;\n",
              "      border: none;\n",
              "      border-radius: 50%;\n",
              "      cursor: pointer;\n",
              "      display: none;\n",
              "      fill: #1967D2;\n",
              "      height: 32px;\n",
              "      padding: 0 0 0 0;\n",
              "      width: 32px;\n",
              "    }\n",
              "\n",
              "    .colab-df-convert:hover {\n",
              "      background-color: #E2EBFA;\n",
              "      box-shadow: 0px 1px 2px rgba(60, 64, 67, 0.3), 0px 1px 3px 1px rgba(60, 64, 67, 0.15);\n",
              "      fill: #174EA6;\n",
              "    }\n",
              "\n",
              "    .colab-df-buttons div {\n",
              "      margin-bottom: 4px;\n",
              "    }\n",
              "\n",
              "    [theme=dark] .colab-df-convert {\n",
              "      background-color: #3B4455;\n",
              "      fill: #D2E3FC;\n",
              "    }\n",
              "\n",
              "    [theme=dark] .colab-df-convert:hover {\n",
              "      background-color: #434B5C;\n",
              "      box-shadow: 0px 1px 3px 1px rgba(0, 0, 0, 0.15);\n",
              "      filter: drop-shadow(0px 1px 2px rgba(0, 0, 0, 0.3));\n",
              "      fill: #FFFFFF;\n",
              "    }\n",
              "  </style>\n",
              "\n",
              "    <script>\n",
              "      const buttonEl =\n",
              "        document.querySelector('#df-55decbbe-3a9b-428c-817c-5b381cdfc882 button.colab-df-convert');\n",
              "      buttonEl.style.display =\n",
              "        google.colab.kernel.accessAllowed ? 'block' : 'none';\n",
              "\n",
              "      async function convertToInteractive(key) {\n",
              "        const element = document.querySelector('#df-55decbbe-3a9b-428c-817c-5b381cdfc882');\n",
              "        const dataTable =\n",
              "          await google.colab.kernel.invokeFunction('convertToInteractive',\n",
              "                                                    [key], {});\n",
              "        if (!dataTable) return;\n",
              "\n",
              "        const docLinkHtml = 'Like what you see? Visit the ' +\n",
              "          '<a target=\"_blank\" href=https://colab.research.google.com/notebooks/data_table.ipynb>data table notebook</a>'\n",
              "          + ' to learn more about interactive tables.';\n",
              "        element.innerHTML = '';\n",
              "        dataTable['output_type'] = 'display_data';\n",
              "        await google.colab.output.renderOutput(dataTable, element);\n",
              "        const docLink = document.createElement('div');\n",
              "        docLink.innerHTML = docLinkHtml;\n",
              "        element.appendChild(docLink);\n",
              "      }\n",
              "    </script>\n",
              "  </div>\n",
              "\n",
              "\n",
              "    <div id=\"df-f39365d2-7f8a-4b47-acd0-3e2c3bf54416\">\n",
              "      <button class=\"colab-df-quickchart\" onclick=\"quickchart('df-f39365d2-7f8a-4b47-acd0-3e2c3bf54416')\"\n",
              "                title=\"Suggest charts\"\n",
              "                style=\"display:none;\">\n",
              "\n",
              "<svg xmlns=\"http://www.w3.org/2000/svg\" height=\"24px\"viewBox=\"0 0 24 24\"\n",
              "     width=\"24px\">\n",
              "    <g>\n",
              "        <path d=\"M19 3H5c-1.1 0-2 .9-2 2v14c0 1.1.9 2 2 2h14c1.1 0 2-.9 2-2V5c0-1.1-.9-2-2-2zM9 17H7v-7h2v7zm4 0h-2V7h2v10zm4 0h-2v-4h2v4z\"/>\n",
              "    </g>\n",
              "</svg>\n",
              "      </button>\n",
              "\n",
              "<style>\n",
              "  .colab-df-quickchart {\n",
              "      --bg-color: #E8F0FE;\n",
              "      --fill-color: #1967D2;\n",
              "      --hover-bg-color: #E2EBFA;\n",
              "      --hover-fill-color: #174EA6;\n",
              "      --disabled-fill-color: #AAA;\n",
              "      --disabled-bg-color: #DDD;\n",
              "  }\n",
              "\n",
              "  [theme=dark] .colab-df-quickchart {\n",
              "      --bg-color: #3B4455;\n",
              "      --fill-color: #D2E3FC;\n",
              "      --hover-bg-color: #434B5C;\n",
              "      --hover-fill-color: #FFFFFF;\n",
              "      --disabled-bg-color: #3B4455;\n",
              "      --disabled-fill-color: #666;\n",
              "  }\n",
              "\n",
              "  .colab-df-quickchart {\n",
              "    background-color: var(--bg-color);\n",
              "    border: none;\n",
              "    border-radius: 50%;\n",
              "    cursor: pointer;\n",
              "    display: none;\n",
              "    fill: var(--fill-color);\n",
              "    height: 32px;\n",
              "    padding: 0;\n",
              "    width: 32px;\n",
              "  }\n",
              "\n",
              "  .colab-df-quickchart:hover {\n",
              "    background-color: var(--hover-bg-color);\n",
              "    box-shadow: 0 1px 2px rgba(60, 64, 67, 0.3), 0 1px 3px 1px rgba(60, 64, 67, 0.15);\n",
              "    fill: var(--button-hover-fill-color);\n",
              "  }\n",
              "\n",
              "  .colab-df-quickchart-complete:disabled,\n",
              "  .colab-df-quickchart-complete:disabled:hover {\n",
              "    background-color: var(--disabled-bg-color);\n",
              "    fill: var(--disabled-fill-color);\n",
              "    box-shadow: none;\n",
              "  }\n",
              "\n",
              "  .colab-df-spinner {\n",
              "    border: 2px solid var(--fill-color);\n",
              "    border-color: transparent;\n",
              "    border-bottom-color: var(--fill-color);\n",
              "    animation:\n",
              "      spin 1s steps(1) infinite;\n",
              "  }\n",
              "\n",
              "  @keyframes spin {\n",
              "    0% {\n",
              "      border-color: transparent;\n",
              "      border-bottom-color: var(--fill-color);\n",
              "      border-left-color: var(--fill-color);\n",
              "    }\n",
              "    20% {\n",
              "      border-color: transparent;\n",
              "      border-left-color: var(--fill-color);\n",
              "      border-top-color: var(--fill-color);\n",
              "    }\n",
              "    30% {\n",
              "      border-color: transparent;\n",
              "      border-left-color: var(--fill-color);\n",
              "      border-top-color: var(--fill-color);\n",
              "      border-right-color: var(--fill-color);\n",
              "    }\n",
              "    40% {\n",
              "      border-color: transparent;\n",
              "      border-right-color: var(--fill-color);\n",
              "      border-top-color: var(--fill-color);\n",
              "    }\n",
              "    60% {\n",
              "      border-color: transparent;\n",
              "      border-right-color: var(--fill-color);\n",
              "    }\n",
              "    80% {\n",
              "      border-color: transparent;\n",
              "      border-right-color: var(--fill-color);\n",
              "      border-bottom-color: var(--fill-color);\n",
              "    }\n",
              "    90% {\n",
              "      border-color: transparent;\n",
              "      border-bottom-color: var(--fill-color);\n",
              "    }\n",
              "  }\n",
              "</style>\n",
              "\n",
              "      <script>\n",
              "        async function quickchart(key) {\n",
              "          const quickchartButtonEl =\n",
              "            document.querySelector('#' + key + ' button');\n",
              "          quickchartButtonEl.disabled = true;  // To prevent multiple clicks.\n",
              "          quickchartButtonEl.classList.add('colab-df-spinner');\n",
              "          try {\n",
              "            const charts = await google.colab.kernel.invokeFunction(\n",
              "                'suggestCharts', [key], {});\n",
              "          } catch (error) {\n",
              "            console.error('Error during call to suggestCharts:', error);\n",
              "          }\n",
              "          quickchartButtonEl.classList.remove('colab-df-spinner');\n",
              "          quickchartButtonEl.classList.add('colab-df-quickchart-complete');\n",
              "        }\n",
              "        (() => {\n",
              "          let quickchartButtonEl =\n",
              "            document.querySelector('#df-f39365d2-7f8a-4b47-acd0-3e2c3bf54416 button');\n",
              "          quickchartButtonEl.style.display =\n",
              "            google.colab.kernel.accessAllowed ? 'block' : 'none';\n",
              "        })();\n",
              "      </script>\n",
              "    </div>\n",
              "\n",
              "    </div>\n",
              "  </div>\n"
            ],
            "application/vnd.google.colaboratory.intrinsic+json": {
              "type": "dataframe",
              "variable_name": "datos",
              "summary": "{\n  \"name\": \"datos\",\n  \"rows\": 891,\n  \"fields\": [\n    {\n      \"column\": \"PassengerId\",\n      \"properties\": {\n        \"dtype\": \"number\",\n        \"std\": 257,\n        \"min\": 1,\n        \"max\": 891,\n        \"num_unique_values\": 891,\n        \"samples\": [\n          710,\n          440,\n          841\n        ],\n        \"semantic_type\": \"\",\n        \"description\": \"\"\n      }\n    },\n    {\n      \"column\": \"Survived\",\n      \"properties\": {\n        \"dtype\": \"number\",\n        \"std\": 0,\n        \"min\": 0,\n        \"max\": 1,\n        \"num_unique_values\": 2,\n        \"samples\": [\n          1,\n          0\n        ],\n        \"semantic_type\": \"\",\n        \"description\": \"\"\n      }\n    },\n    {\n      \"column\": \"Pclass\",\n      \"properties\": {\n        \"dtype\": \"number\",\n        \"std\": 0,\n        \"min\": 1,\n        \"max\": 3,\n        \"num_unique_values\": 3,\n        \"samples\": [\n          3,\n          1\n        ],\n        \"semantic_type\": \"\",\n        \"description\": \"\"\n      }\n    },\n    {\n      \"column\": \"Name\",\n      \"properties\": {\n        \"dtype\": \"string\",\n        \"num_unique_values\": 891,\n        \"samples\": [\n          \"Moubarek, Master. Halim Gonios (\\\"William George\\\")\",\n          \"Kvillner, Mr. Johan Henrik Johannesson\"\n        ],\n        \"semantic_type\": \"\",\n        \"description\": \"\"\n      }\n    },\n    {\n      \"column\": \"Sex\",\n      \"properties\": {\n        \"dtype\": \"category\",\n        \"num_unique_values\": 2,\n        \"samples\": [\n          \"female\",\n          \"male\"\n        ],\n        \"semantic_type\": \"\",\n        \"description\": \"\"\n      }\n    },\n    {\n      \"column\": \"Age\",\n      \"properties\": {\n        \"dtype\": \"number\",\n        \"std\": 14.526497332334044,\n        \"min\": 0.42,\n        \"max\": 80.0,\n        \"num_unique_values\": 88,\n        \"samples\": [\n          0.75,\n          22.0\n        ],\n        \"semantic_type\": \"\",\n        \"description\": \"\"\n      }\n    },\n    {\n      \"column\": \"SibSp\",\n      \"properties\": {\n        \"dtype\": \"number\",\n        \"std\": 1,\n        \"min\": 0,\n        \"max\": 8,\n        \"num_unique_values\": 7,\n        \"samples\": [\n          1,\n          0\n        ],\n        \"semantic_type\": \"\",\n        \"description\": \"\"\n      }\n    },\n    {\n      \"column\": \"Parch\",\n      \"properties\": {\n        \"dtype\": \"number\",\n        \"std\": 0,\n        \"min\": 0,\n        \"max\": 6,\n        \"num_unique_values\": 7,\n        \"samples\": [\n          0,\n          1\n        ],\n        \"semantic_type\": \"\",\n        \"description\": \"\"\n      }\n    },\n    {\n      \"column\": \"Ticket\",\n      \"properties\": {\n        \"dtype\": \"string\",\n        \"num_unique_values\": 681,\n        \"samples\": [\n          \"11774\",\n          \"248740\"\n        ],\n        \"semantic_type\": \"\",\n        \"description\": \"\"\n      }\n    },\n    {\n      \"column\": \"Fare\",\n      \"properties\": {\n        \"dtype\": \"number\",\n        \"std\": 49.693428597180905,\n        \"min\": 0.0,\n        \"max\": 512.3292,\n        \"num_unique_values\": 248,\n        \"samples\": [\n          11.2417,\n          51.8625\n        ],\n        \"semantic_type\": \"\",\n        \"description\": \"\"\n      }\n    },\n    {\n      \"column\": \"Cabin\",\n      \"properties\": {\n        \"dtype\": \"category\",\n        \"num_unique_values\": 147,\n        \"samples\": [\n          \"D45\",\n          \"B49\"\n        ],\n        \"semantic_type\": \"\",\n        \"description\": \"\"\n      }\n    },\n    {\n      \"column\": \"Embarked\",\n      \"properties\": {\n        \"dtype\": \"category\",\n        \"num_unique_values\": 3,\n        \"samples\": [\n          \"S\",\n          \"C\"\n        ],\n        \"semantic_type\": \"\",\n        \"description\": \"\"\n      }\n    }\n  ]\n}"
            }
          },
          "metadata": {},
          "execution_count": 118
        }
      ]
    },
    {
      "cell_type": "markdown",
      "source": [
        "Entre las variables más importantes se puede mencionar:\n",
        "\n",
        "- pclass: Indicador del nivel socioeconómico (NSE)\n",
        "  - 1.º = Alto\n",
        "  - 2.º = Medio\n",
        "  - 3.º = Bajo\n",
        "\n",
        "- sibsp: El conjunto de datos define las relaciones familiares de esta manera:\n",
        "  - Sibling = hermano, hermana, hermanastro, hermanastra\n",
        "  - Spouse = esposo, esposa (se ignoraron amantes y prometidos)\n",
        "\n",
        "- parch:\n",
        "  - El conjunto de datos define las relaciones familiares de esta manera:\n",
        "    - Parent = madre, padre\n",
        "    - Child = hija, hijo, hijastra, hijastro\n",
        "    - Algunos niños viajaron solo con una niñera, por lo que parch=0 para ellos."
      ],
      "metadata": {
        "id": "AaLkocC2fz8a"
      }
    },
    {
      "cell_type": "markdown",
      "source": [
        "## Verificar medidas estadisticas en variables o columnas del dataset"
      ],
      "metadata": {
        "id": "5ZcoqW0wZHfy"
      }
    },
    {
      "cell_type": "code",
      "source": [
        "datos.describe()"
      ],
      "metadata": {
        "id": "iICkHR1mQUAk",
        "colab": {
          "base_uri": "https://localhost:8080/",
          "height": 300
        },
        "outputId": "fe81f270-5b2b-410a-c5f9-9e6360ddd4e1"
      },
      "execution_count": 119,
      "outputs": [
        {
          "output_type": "execute_result",
          "data": {
            "text/plain": [
              "       PassengerId    Survived      Pclass         Age       SibSp  \\\n",
              "count   891.000000  891.000000  891.000000  714.000000  891.000000   \n",
              "mean    446.000000    0.383838    2.308642   29.699118    0.523008   \n",
              "std     257.353842    0.486592    0.836071   14.526497    1.102743   \n",
              "min       1.000000    0.000000    1.000000    0.420000    0.000000   \n",
              "25%     223.500000    0.000000    2.000000   20.125000    0.000000   \n",
              "50%     446.000000    0.000000    3.000000   28.000000    0.000000   \n",
              "75%     668.500000    1.000000    3.000000   38.000000    1.000000   \n",
              "max     891.000000    1.000000    3.000000   80.000000    8.000000   \n",
              "\n",
              "            Parch        Fare  \n",
              "count  891.000000  891.000000  \n",
              "mean     0.381594   32.204208  \n",
              "std      0.806057   49.693429  \n",
              "min      0.000000    0.000000  \n",
              "25%      0.000000    7.910400  \n",
              "50%      0.000000   14.454200  \n",
              "75%      0.000000   31.000000  \n",
              "max      6.000000  512.329200  "
            ],
            "text/html": [
              "\n",
              "  <div id=\"df-cf67b8bb-5c89-46b7-9f61-3b5601cf50e1\" class=\"colab-df-container\">\n",
              "    <div>\n",
              "<style scoped>\n",
              "    .dataframe tbody tr th:only-of-type {\n",
              "        vertical-align: middle;\n",
              "    }\n",
              "\n",
              "    .dataframe tbody tr th {\n",
              "        vertical-align: top;\n",
              "    }\n",
              "\n",
              "    .dataframe thead th {\n",
              "        text-align: right;\n",
              "    }\n",
              "</style>\n",
              "<table border=\"1\" class=\"dataframe\">\n",
              "  <thead>\n",
              "    <tr style=\"text-align: right;\">\n",
              "      <th></th>\n",
              "      <th>PassengerId</th>\n",
              "      <th>Survived</th>\n",
              "      <th>Pclass</th>\n",
              "      <th>Age</th>\n",
              "      <th>SibSp</th>\n",
              "      <th>Parch</th>\n",
              "      <th>Fare</th>\n",
              "    </tr>\n",
              "  </thead>\n",
              "  <tbody>\n",
              "    <tr>\n",
              "      <th>count</th>\n",
              "      <td>891.000000</td>\n",
              "      <td>891.000000</td>\n",
              "      <td>891.000000</td>\n",
              "      <td>714.000000</td>\n",
              "      <td>891.000000</td>\n",
              "      <td>891.000000</td>\n",
              "      <td>891.000000</td>\n",
              "    </tr>\n",
              "    <tr>\n",
              "      <th>mean</th>\n",
              "      <td>446.000000</td>\n",
              "      <td>0.383838</td>\n",
              "      <td>2.308642</td>\n",
              "      <td>29.699118</td>\n",
              "      <td>0.523008</td>\n",
              "      <td>0.381594</td>\n",
              "      <td>32.204208</td>\n",
              "    </tr>\n",
              "    <tr>\n",
              "      <th>std</th>\n",
              "      <td>257.353842</td>\n",
              "      <td>0.486592</td>\n",
              "      <td>0.836071</td>\n",
              "      <td>14.526497</td>\n",
              "      <td>1.102743</td>\n",
              "      <td>0.806057</td>\n",
              "      <td>49.693429</td>\n",
              "    </tr>\n",
              "    <tr>\n",
              "      <th>min</th>\n",
              "      <td>1.000000</td>\n",
              "      <td>0.000000</td>\n",
              "      <td>1.000000</td>\n",
              "      <td>0.420000</td>\n",
              "      <td>0.000000</td>\n",
              "      <td>0.000000</td>\n",
              "      <td>0.000000</td>\n",
              "    </tr>\n",
              "    <tr>\n",
              "      <th>25%</th>\n",
              "      <td>223.500000</td>\n",
              "      <td>0.000000</td>\n",
              "      <td>2.000000</td>\n",
              "      <td>20.125000</td>\n",
              "      <td>0.000000</td>\n",
              "      <td>0.000000</td>\n",
              "      <td>7.910400</td>\n",
              "    </tr>\n",
              "    <tr>\n",
              "      <th>50%</th>\n",
              "      <td>446.000000</td>\n",
              "      <td>0.000000</td>\n",
              "      <td>3.000000</td>\n",
              "      <td>28.000000</td>\n",
              "      <td>0.000000</td>\n",
              "      <td>0.000000</td>\n",
              "      <td>14.454200</td>\n",
              "    </tr>\n",
              "    <tr>\n",
              "      <th>75%</th>\n",
              "      <td>668.500000</td>\n",
              "      <td>1.000000</td>\n",
              "      <td>3.000000</td>\n",
              "      <td>38.000000</td>\n",
              "      <td>1.000000</td>\n",
              "      <td>0.000000</td>\n",
              "      <td>31.000000</td>\n",
              "    </tr>\n",
              "    <tr>\n",
              "      <th>max</th>\n",
              "      <td>891.000000</td>\n",
              "      <td>1.000000</td>\n",
              "      <td>3.000000</td>\n",
              "      <td>80.000000</td>\n",
              "      <td>8.000000</td>\n",
              "      <td>6.000000</td>\n",
              "      <td>512.329200</td>\n",
              "    </tr>\n",
              "  </tbody>\n",
              "</table>\n",
              "</div>\n",
              "    <div class=\"colab-df-buttons\">\n",
              "\n",
              "  <div class=\"colab-df-container\">\n",
              "    <button class=\"colab-df-convert\" onclick=\"convertToInteractive('df-cf67b8bb-5c89-46b7-9f61-3b5601cf50e1')\"\n",
              "            title=\"Convert this dataframe to an interactive table.\"\n",
              "            style=\"display:none;\">\n",
              "\n",
              "  <svg xmlns=\"http://www.w3.org/2000/svg\" height=\"24px\" viewBox=\"0 -960 960 960\">\n",
              "    <path d=\"M120-120v-720h720v720H120Zm60-500h600v-160H180v160Zm220 220h160v-160H400v160Zm0 220h160v-160H400v160ZM180-400h160v-160H180v160Zm440 0h160v-160H620v160ZM180-180h160v-160H180v160Zm440 0h160v-160H620v160Z\"/>\n",
              "  </svg>\n",
              "    </button>\n",
              "\n",
              "  <style>\n",
              "    .colab-df-container {\n",
              "      display:flex;\n",
              "      gap: 12px;\n",
              "    }\n",
              "\n",
              "    .colab-df-convert {\n",
              "      background-color: #E8F0FE;\n",
              "      border: none;\n",
              "      border-radius: 50%;\n",
              "      cursor: pointer;\n",
              "      display: none;\n",
              "      fill: #1967D2;\n",
              "      height: 32px;\n",
              "      padding: 0 0 0 0;\n",
              "      width: 32px;\n",
              "    }\n",
              "\n",
              "    .colab-df-convert:hover {\n",
              "      background-color: #E2EBFA;\n",
              "      box-shadow: 0px 1px 2px rgba(60, 64, 67, 0.3), 0px 1px 3px 1px rgba(60, 64, 67, 0.15);\n",
              "      fill: #174EA6;\n",
              "    }\n",
              "\n",
              "    .colab-df-buttons div {\n",
              "      margin-bottom: 4px;\n",
              "    }\n",
              "\n",
              "    [theme=dark] .colab-df-convert {\n",
              "      background-color: #3B4455;\n",
              "      fill: #D2E3FC;\n",
              "    }\n",
              "\n",
              "    [theme=dark] .colab-df-convert:hover {\n",
              "      background-color: #434B5C;\n",
              "      box-shadow: 0px 1px 3px 1px rgba(0, 0, 0, 0.15);\n",
              "      filter: drop-shadow(0px 1px 2px rgba(0, 0, 0, 0.3));\n",
              "      fill: #FFFFFF;\n",
              "    }\n",
              "  </style>\n",
              "\n",
              "    <script>\n",
              "      const buttonEl =\n",
              "        document.querySelector('#df-cf67b8bb-5c89-46b7-9f61-3b5601cf50e1 button.colab-df-convert');\n",
              "      buttonEl.style.display =\n",
              "        google.colab.kernel.accessAllowed ? 'block' : 'none';\n",
              "\n",
              "      async function convertToInteractive(key) {\n",
              "        const element = document.querySelector('#df-cf67b8bb-5c89-46b7-9f61-3b5601cf50e1');\n",
              "        const dataTable =\n",
              "          await google.colab.kernel.invokeFunction('convertToInteractive',\n",
              "                                                    [key], {});\n",
              "        if (!dataTable) return;\n",
              "\n",
              "        const docLinkHtml = 'Like what you see? Visit the ' +\n",
              "          '<a target=\"_blank\" href=https://colab.research.google.com/notebooks/data_table.ipynb>data table notebook</a>'\n",
              "          + ' to learn more about interactive tables.';\n",
              "        element.innerHTML = '';\n",
              "        dataTable['output_type'] = 'display_data';\n",
              "        await google.colab.output.renderOutput(dataTable, element);\n",
              "        const docLink = document.createElement('div');\n",
              "        docLink.innerHTML = docLinkHtml;\n",
              "        element.appendChild(docLink);\n",
              "      }\n",
              "    </script>\n",
              "  </div>\n",
              "\n",
              "\n",
              "    <div id=\"df-1137a46d-89a5-4215-afc6-474b75ca51a7\">\n",
              "      <button class=\"colab-df-quickchart\" onclick=\"quickchart('df-1137a46d-89a5-4215-afc6-474b75ca51a7')\"\n",
              "                title=\"Suggest charts\"\n",
              "                style=\"display:none;\">\n",
              "\n",
              "<svg xmlns=\"http://www.w3.org/2000/svg\" height=\"24px\"viewBox=\"0 0 24 24\"\n",
              "     width=\"24px\">\n",
              "    <g>\n",
              "        <path d=\"M19 3H5c-1.1 0-2 .9-2 2v14c0 1.1.9 2 2 2h14c1.1 0 2-.9 2-2V5c0-1.1-.9-2-2-2zM9 17H7v-7h2v7zm4 0h-2V7h2v10zm4 0h-2v-4h2v4z\"/>\n",
              "    </g>\n",
              "</svg>\n",
              "      </button>\n",
              "\n",
              "<style>\n",
              "  .colab-df-quickchart {\n",
              "      --bg-color: #E8F0FE;\n",
              "      --fill-color: #1967D2;\n",
              "      --hover-bg-color: #E2EBFA;\n",
              "      --hover-fill-color: #174EA6;\n",
              "      --disabled-fill-color: #AAA;\n",
              "      --disabled-bg-color: #DDD;\n",
              "  }\n",
              "\n",
              "  [theme=dark] .colab-df-quickchart {\n",
              "      --bg-color: #3B4455;\n",
              "      --fill-color: #D2E3FC;\n",
              "      --hover-bg-color: #434B5C;\n",
              "      --hover-fill-color: #FFFFFF;\n",
              "      --disabled-bg-color: #3B4455;\n",
              "      --disabled-fill-color: #666;\n",
              "  }\n",
              "\n",
              "  .colab-df-quickchart {\n",
              "    background-color: var(--bg-color);\n",
              "    border: none;\n",
              "    border-radius: 50%;\n",
              "    cursor: pointer;\n",
              "    display: none;\n",
              "    fill: var(--fill-color);\n",
              "    height: 32px;\n",
              "    padding: 0;\n",
              "    width: 32px;\n",
              "  }\n",
              "\n",
              "  .colab-df-quickchart:hover {\n",
              "    background-color: var(--hover-bg-color);\n",
              "    box-shadow: 0 1px 2px rgba(60, 64, 67, 0.3), 0 1px 3px 1px rgba(60, 64, 67, 0.15);\n",
              "    fill: var(--button-hover-fill-color);\n",
              "  }\n",
              "\n",
              "  .colab-df-quickchart-complete:disabled,\n",
              "  .colab-df-quickchart-complete:disabled:hover {\n",
              "    background-color: var(--disabled-bg-color);\n",
              "    fill: var(--disabled-fill-color);\n",
              "    box-shadow: none;\n",
              "  }\n",
              "\n",
              "  .colab-df-spinner {\n",
              "    border: 2px solid var(--fill-color);\n",
              "    border-color: transparent;\n",
              "    border-bottom-color: var(--fill-color);\n",
              "    animation:\n",
              "      spin 1s steps(1) infinite;\n",
              "  }\n",
              "\n",
              "  @keyframes spin {\n",
              "    0% {\n",
              "      border-color: transparent;\n",
              "      border-bottom-color: var(--fill-color);\n",
              "      border-left-color: var(--fill-color);\n",
              "    }\n",
              "    20% {\n",
              "      border-color: transparent;\n",
              "      border-left-color: var(--fill-color);\n",
              "      border-top-color: var(--fill-color);\n",
              "    }\n",
              "    30% {\n",
              "      border-color: transparent;\n",
              "      border-left-color: var(--fill-color);\n",
              "      border-top-color: var(--fill-color);\n",
              "      border-right-color: var(--fill-color);\n",
              "    }\n",
              "    40% {\n",
              "      border-color: transparent;\n",
              "      border-right-color: var(--fill-color);\n",
              "      border-top-color: var(--fill-color);\n",
              "    }\n",
              "    60% {\n",
              "      border-color: transparent;\n",
              "      border-right-color: var(--fill-color);\n",
              "    }\n",
              "    80% {\n",
              "      border-color: transparent;\n",
              "      border-right-color: var(--fill-color);\n",
              "      border-bottom-color: var(--fill-color);\n",
              "    }\n",
              "    90% {\n",
              "      border-color: transparent;\n",
              "      border-bottom-color: var(--fill-color);\n",
              "    }\n",
              "  }\n",
              "</style>\n",
              "\n",
              "      <script>\n",
              "        async function quickchart(key) {\n",
              "          const quickchartButtonEl =\n",
              "            document.querySelector('#' + key + ' button');\n",
              "          quickchartButtonEl.disabled = true;  // To prevent multiple clicks.\n",
              "          quickchartButtonEl.classList.add('colab-df-spinner');\n",
              "          try {\n",
              "            const charts = await google.colab.kernel.invokeFunction(\n",
              "                'suggestCharts', [key], {});\n",
              "          } catch (error) {\n",
              "            console.error('Error during call to suggestCharts:', error);\n",
              "          }\n",
              "          quickchartButtonEl.classList.remove('colab-df-spinner');\n",
              "          quickchartButtonEl.classList.add('colab-df-quickchart-complete');\n",
              "        }\n",
              "        (() => {\n",
              "          let quickchartButtonEl =\n",
              "            document.querySelector('#df-1137a46d-89a5-4215-afc6-474b75ca51a7 button');\n",
              "          quickchartButtonEl.style.display =\n",
              "            google.colab.kernel.accessAllowed ? 'block' : 'none';\n",
              "        })();\n",
              "      </script>\n",
              "    </div>\n",
              "\n",
              "    </div>\n",
              "  </div>\n"
            ],
            "application/vnd.google.colaboratory.intrinsic+json": {
              "type": "dataframe",
              "summary": "{\n  \"name\": \"datos\",\n  \"rows\": 8,\n  \"fields\": [\n    {\n      \"column\": \"PassengerId\",\n      \"properties\": {\n        \"dtype\": \"number\",\n        \"std\": 320.8159711429856,\n        \"min\": 1.0,\n        \"max\": 891.0,\n        \"num_unique_values\": 6,\n        \"samples\": [\n          891.0,\n          446.0,\n          668.5\n        ],\n        \"semantic_type\": \"\",\n        \"description\": \"\"\n      }\n    },\n    {\n      \"column\": \"Survived\",\n      \"properties\": {\n        \"dtype\": \"number\",\n        \"std\": 314.8713661874558,\n        \"min\": 0.0,\n        \"max\": 891.0,\n        \"num_unique_values\": 5,\n        \"samples\": [\n          0.3838383838383838,\n          1.0,\n          0.4865924542648585\n        ],\n        \"semantic_type\": \"\",\n        \"description\": \"\"\n      }\n    },\n    {\n      \"column\": \"Pclass\",\n      \"properties\": {\n        \"dtype\": \"number\",\n        \"std\": 314.2523437079693,\n        \"min\": 0.8360712409770513,\n        \"max\": 891.0,\n        \"num_unique_values\": 6,\n        \"samples\": [\n          891.0,\n          2.308641975308642,\n          3.0\n        ],\n        \"semantic_type\": \"\",\n        \"description\": \"\"\n      }\n    },\n    {\n      \"column\": \"Age\",\n      \"properties\": {\n        \"dtype\": \"number\",\n        \"std\": 242.9056731818781,\n        \"min\": 0.42,\n        \"max\": 714.0,\n        \"num_unique_values\": 8,\n        \"samples\": [\n          29.69911764705882,\n          28.0,\n          714.0\n        ],\n        \"semantic_type\": \"\",\n        \"description\": \"\"\n      }\n    },\n    {\n      \"column\": \"SibSp\",\n      \"properties\": {\n        \"dtype\": \"number\",\n        \"std\": 314.4908277465442,\n        \"min\": 0.0,\n        \"max\": 891.0,\n        \"num_unique_values\": 6,\n        \"samples\": [\n          891.0,\n          0.5230078563411896,\n          8.0\n        ],\n        \"semantic_type\": \"\",\n        \"description\": \"\"\n      }\n    },\n    {\n      \"column\": \"Parch\",\n      \"properties\": {\n        \"dtype\": \"number\",\n        \"std\": 314.65971717879,\n        \"min\": 0.0,\n        \"max\": 891.0,\n        \"num_unique_values\": 5,\n        \"samples\": [\n          0.38159371492704824,\n          6.0,\n          0.8060572211299559\n        ],\n        \"semantic_type\": \"\",\n        \"description\": \"\"\n      }\n    },\n    {\n      \"column\": \"Fare\",\n      \"properties\": {\n        \"dtype\": \"number\",\n        \"std\": 330.6256632228577,\n        \"min\": 0.0,\n        \"max\": 891.0,\n        \"num_unique_values\": 8,\n        \"samples\": [\n          32.204207968574636,\n          14.4542,\n          891.0\n        ],\n        \"semantic_type\": \"\",\n        \"description\": \"\"\n      }\n    }\n  ]\n}"
            }
          },
          "metadata": {},
          "execution_count": 119
        }
      ]
    },
    {
      "cell_type": "markdown",
      "source": [
        "## Verificar gráfico que muestra la cantidad de supervivientes en el caso titanic."
      ],
      "metadata": {
        "id": "mJVxwhM8ZQL9"
      }
    },
    {
      "cell_type": "code",
      "source": [
        "import seaborn as sb\n",
        "sb.countplot(x=\"Survived\", data=datos)"
      ],
      "metadata": {
        "id": "MT8SQMpdQwXn",
        "colab": {
          "base_uri": "https://localhost:8080/",
          "height": 467
        },
        "outputId": "6c55a51a-7498-42f7-fc5d-8db7a41e4e0c"
      },
      "execution_count": 120,
      "outputs": [
        {
          "output_type": "execute_result",
          "data": {
            "text/plain": [
              "<Axes: xlabel='Survived', ylabel='count'>"
            ]
          },
          "metadata": {},
          "execution_count": 120
        },
        {
          "output_type": "display_data",
          "data": {
            "text/plain": [
              "<Figure size 640x480 with 1 Axes>"
            ],
            "image/png": "[encoded data removed]"
          },
          "metadata": {}
        }
      ]
    },
    {
      "cell_type": "markdown",
      "source": [
        "La mayoría de personas murieron o no sobrevivió. No es muy especifico si no se utilizan otros factores (edad, sexo, etc.)"
      ],
      "metadata": {
        "id": "rVLz0pV5cDDq"
      }
    },
    {
      "cell_type": "markdown",
      "source": [
        "## Verificar gráfico que muestra la cantidad de supervivientes por género"
      ],
      "metadata": {
        "id": "NNj-7Pk0Zity"
      }
    },
    {
      "cell_type": "code",
      "source": [
        "sb.countplot(x=\"Survived\", data=datos, hue=\"Sex\")"
      ],
      "metadata": {
        "id": "fZubkgG1Q5NE",
        "colab": {
          "base_uri": "https://localhost:8080/",
          "height": 467
        },
        "outputId": "9910aeab-fe87-417d-f659-7bdeeb1412e0"
      },
      "execution_count": 121,
      "outputs": [
        {
          "output_type": "execute_result",
          "data": {
            "text/plain": [
              "<Axes: xlabel='Survived', ylabel='count'>"
            ]
          },
          "metadata": {},
          "execution_count": 121
        },
        {
          "output_type": "display_data",
          "data": {
            "text/plain": [
              "<Figure size 640x480 with 1 Axes>"
            ],
            "image/png": "[encoded data removed]"
          },
          "metadata": {}
        }
      ]
    },
    {
      "cell_type": "markdown",
      "source": [
        "La mayor cantidad de muertes o la mortalidad fue en hombres comparado al sexo femenino."
      ],
      "metadata": {
        "id": "ja80zsdNcc19"
      }
    },
    {
      "cell_type": "markdown",
      "source": [
        "## Verificar si hay valores nulos en cada columna del DataFrame"
      ],
      "metadata": {
        "id": "GwROQAEFX4nU"
      }
    },
    {
      "cell_type": "code",
      "source": [
        "\n",
        "datos.isna().sum()"
      ],
      "metadata": {
        "id": "0Q0tp2y4RCvW",
        "colab": {
          "base_uri": "https://localhost:8080/",
          "height": 460
        },
        "outputId": "c943a158-6e5c-4e6b-9493-c5eefe2388e9"
      },
      "execution_count": 122,
      "outputs": [
        {
          "output_type": "execute_result",
          "data": {
            "text/plain": [
              "PassengerId      0\n",
              "Survived         0\n",
              "Pclass           0\n",
              "Name             0\n",
              "Sex              0\n",
              "Age            177\n",
              "SibSp            0\n",
              "Parch            0\n",
              "Ticket           0\n",
              "Fare             0\n",
              "Cabin          687\n",
              "Embarked         2\n",
              "dtype: int64"
            ],
            "text/html": [
              "<div>\n",
              "<style scoped>\n",
              "    .dataframe tbody tr th:only-of-type {\n",
              "        vertical-align: middle;\n",
              "    }\n",
              "\n",
              "    .dataframe tbody tr th {\n",
              "        vertical-align: top;\n",
              "    }\n",
              "\n",
              "    .dataframe thead th {\n",
              "        text-align: right;\n",
              "    }\n",
              "</style>\n",
              "<table border=\"1\" class=\"dataframe\">\n",
              "  <thead>\n",
              "    <tr style=\"text-align: right;\">\n",
              "      <th></th>\n",
              "      <th>0</th>\n",
              "    </tr>\n",
              "  </thead>\n",
              "  <tbody>\n",
              "    <tr>\n",
              "      <th>PassengerId</th>\n",
              "      <td>0</td>\n",
              "    </tr>\n",
              "    <tr>\n",
              "      <th>Survived</th>\n",
              "      <td>0</td>\n",
              "    </tr>\n",
              "    <tr>\n",
              "      <th>Pclass</th>\n",
              "      <td>0</td>\n",
              "    </tr>\n",
              "    <tr>\n",
              "      <th>Name</th>\n",
              "      <td>0</td>\n",
              "    </tr>\n",
              "    <tr>\n",
              "      <th>Sex</th>\n",
              "      <td>0</td>\n",
              "    </tr>\n",
              "    <tr>\n",
              "      <th>Age</th>\n",
              "      <td>177</td>\n",
              "    </tr>\n",
              "    <tr>\n",
              "      <th>SibSp</th>\n",
              "      <td>0</td>\n",
              "    </tr>\n",
              "    <tr>\n",
              "      <th>Parch</th>\n",
              "      <td>0</td>\n",
              "    </tr>\n",
              "    <tr>\n",
              "      <th>Ticket</th>\n",
              "      <td>0</td>\n",
              "    </tr>\n",
              "    <tr>\n",
              "      <th>Fare</th>\n",
              "      <td>0</td>\n",
              "    </tr>\n",
              "    <tr>\n",
              "      <th>Cabin</th>\n",
              "      <td>687</td>\n",
              "    </tr>\n",
              "    <tr>\n",
              "      <th>Embarked</th>\n",
              "      <td>2</td>\n",
              "    </tr>\n",
              "  </tbody>\n",
              "</table>\n",
              "</div><br><label><b>dtype:</b> int64</label>"
            ]
          },
          "metadata": {},
          "execution_count": 122
        }
      ]
    },
    {
      "cell_type": "markdown",
      "source": [
        "Entre las propiedades o variables, que poseen datos nulos están la edad, la cabina y el punto donde se embarcaron algunos de los pasajeros. La edad en especial que muestra que al menos 177 pasajeros no poseen una edad definida."
      ],
      "metadata": {
        "id": "c8eVhQpYc62m"
      }
    },
    {
      "cell_type": "markdown",
      "source": [
        "## Crear un histograma para visualizar la distribución de la columna 'Age'\n",
        "\n",
        "- Se utiliza seaborn para crear el gráfico de distribución (displot), 'x=\"Age\"' para colocar la edad en el eje x.\n",
        "\n",
        "En este caso, se observa la variable de edad sin modificarla aún, esto para precisamente observar en que rangos de edad se encuentran los pasajeros antes de remover los registros de edad nulos que hay en el dataset."
      ],
      "metadata": {
        "id": "0EaCAnO3X7Qp"
      }
    },
    {
      "cell_type": "code",
      "source": [
        "sb.displot(x=\"Age\", data=datos)"
      ],
      "metadata": {
        "id": "VvmExAXQRfR7",
        "colab": {
          "base_uri": "https://localhost:8080/",
          "height": 524
        },
        "outputId": "7e9b85e6-9036-4abe-a860-752db7d89bc9"
      },
      "execution_count": 123,
      "outputs": [
        {
          "output_type": "execute_result",
          "data": {
            "text/plain": [
              "<seaborn.axisgrid.FacetGrid at 0x79fc2f069c10>"
            ]
          },
          "metadata": {},
          "execution_count": 123
        },
        {
          "output_type": "display_data",
          "data": {
            "text/plain": [
              "<Figure size 500x500 with 1 Axes>"
            ],
            "image/png": "[encoded data removed]"
          },
          "metadata": {}
        }
      ]
    },
    {
      "cell_type": "markdown",
      "source": [
        "Los rangos de edad de los pasajeros estan mayormente distribuidos entre los 20-40 años."
      ],
      "metadata": {
        "id": "tD-QdfledY8c"
      }
    },
    {
      "cell_type": "markdown",
      "source": [
        "## Verificar y mostrar la columna 'Age'\n"
      ],
      "metadata": {
        "id": "_LdpgBCvYFwo"
      }
    },
    {
      "cell_type": "code",
      "source": [
        "\n",
        "datos[\"Age\"]"
      ],
      "metadata": {
        "id": "tCNxMhy3RpbB",
        "colab": {
          "base_uri": "https://localhost:8080/",
          "height": 458
        },
        "outputId": "94b9cb57-d9df-4f8f-81a4-07b04aafadf9"
      },
      "execution_count": 124,
      "outputs": [
        {
          "output_type": "execute_result",
          "data": {
            "text/plain": [
              "0      22.0\n",
              "1      38.0\n",
              "2      26.0\n",
              "3      35.0\n",
              "4      35.0\n",
              "       ... \n",
              "886    27.0\n",
              "887    19.0\n",
              "888     NaN\n",
              "889    26.0\n",
              "890    32.0\n",
              "Name: Age, Length: 891, dtype: float64"
            ],
            "text/html": [
              "<div>\n",
              "<style scoped>\n",
              "    .dataframe tbody tr th:only-of-type {\n",
              "        vertical-align: middle;\n",
              "    }\n",
              "\n",
              "    .dataframe tbody tr th {\n",
              "        vertical-align: top;\n",
              "    }\n",
              "\n",
              "    .dataframe thead th {\n",
              "        text-align: right;\n",
              "    }\n",
              "</style>\n",
              "<table border=\"1\" class=\"dataframe\">\n",
              "  <thead>\n",
              "    <tr style=\"text-align: right;\">\n",
              "      <th></th>\n",
              "      <th>Age</th>\n",
              "    </tr>\n",
              "  </thead>\n",
              "  <tbody>\n",
              "    <tr>\n",
              "      <th>0</th>\n",
              "      <td>22.0</td>\n",
              "    </tr>\n",
              "    <tr>\n",
              "      <th>1</th>\n",
              "      <td>38.0</td>\n",
              "    </tr>\n",
              "    <tr>\n",
              "      <th>2</th>\n",
              "      <td>26.0</td>\n",
              "    </tr>\n",
              "    <tr>\n",
              "      <th>3</th>\n",
              "      <td>35.0</td>\n",
              "    </tr>\n",
              "    <tr>\n",
              "      <th>4</th>\n",
              "      <td>35.0</td>\n",
              "    </tr>\n",
              "    <tr>\n",
              "      <th>...</th>\n",
              "      <td>...</td>\n",
              "    </tr>\n",
              "    <tr>\n",
              "      <th>886</th>\n",
              "      <td>27.0</td>\n",
              "    </tr>\n",
              "    <tr>\n",
              "      <th>887</th>\n",
              "      <td>19.0</td>\n",
              "    </tr>\n",
              "    <tr>\n",
              "      <th>888</th>\n",
              "      <td>NaN</td>\n",
              "    </tr>\n",
              "    <tr>\n",
              "      <th>889</th>\n",
              "      <td>26.0</td>\n",
              "    </tr>\n",
              "    <tr>\n",
              "      <th>890</th>\n",
              "      <td>32.0</td>\n",
              "    </tr>\n",
              "  </tbody>\n",
              "</table>\n",
              "<p>891 rows × 1 columns</p>\n",
              "</div><br><label><b>dtype:</b> float64</label>"
            ]
          },
          "metadata": {},
          "execution_count": 124
        }
      ]
    },
    {
      "cell_type": "markdown",
      "source": [
        "Se comprueba tal como en el `datos.isna().sum()` que el dataset posee supervivientes sin edad aparente lo cual necesita ser estudiado."
      ],
      "metadata": {
        "id": "DZbnyupEZuVx"
      }
    },
    {
      "cell_type": "markdown",
      "source": [
        "## Edad promedio de los supervivientes"
      ],
      "metadata": {
        "id": "JlfnA0vuaCjo"
      }
    },
    {
      "cell_type": "code",
      "source": [
        "datos[\"Age\"].mean()"
      ],
      "metadata": {
        "id": "xguO31vnRunm",
        "colab": {
          "base_uri": "https://localhost:8080/"
        },
        "outputId": "a4673067-3ca2-456a-c232-2952266b4c4e"
      },
      "execution_count": 125,
      "outputs": [
        {
          "output_type": "execute_result",
          "data": {
            "text/plain": [
              "np.float64(29.69911764705882)"
            ]
          },
          "metadata": {},
          "execution_count": 125
        }
      ]
    },
    {
      "cell_type": "markdown",
      "source": [
        "La edad promedio de los pasajeros ronda los 29 años de edad."
      ],
      "metadata": {
        "id": "SeDOE2ldZtjv"
      }
    },
    {
      "cell_type": "markdown",
      "source": [
        "## Limpiar valores nulos (Nan, None)"
      ],
      "metadata": {
        "id": "XY5B9Fd6m6ku"
      }
    },
    {
      "cell_type": "code",
      "source": [
        "datos[\"Age\"] = datos[\"Age\"].fillna(datos[\"Age\"].mean())"
      ],
      "metadata": {
        "id": "KHyPUICQR_Z9"
      },
      "execution_count": 126,
      "outputs": []
    },
    {
      "cell_type": "markdown",
      "source": [
        "Se ingresa la edad promedio de los pasajeros del barco a pasajeros sin edad aparente."
      ],
      "metadata": {
        "id": "8E0OwA29mp30"
      }
    },
    {
      "cell_type": "code",
      "source": [
        "datos[\"Age\"]"
      ],
      "metadata": {
        "id": "e-GV2EuwSEKt",
        "colab": {
          "base_uri": "https://localhost:8080/",
          "height": 458
        },
        "outputId": "77f633a0-a451-460c-bcb6-e212dc214bd6"
      },
      "execution_count": 127,
      "outputs": [
        {
          "output_type": "execute_result",
          "data": {
            "text/plain": [
              "0      22.000000\n",
              "1      38.000000\n",
              "2      26.000000\n",
              "3      35.000000\n",
              "4      35.000000\n",
              "         ...    \n",
              "886    27.000000\n",
              "887    19.000000\n",
              "888    29.699118\n",
              "889    26.000000\n",
              "890    32.000000\n",
              "Name: Age, Length: 891, dtype: float64"
            ],
            "text/html": [
              "<div>\n",
              "<style scoped>\n",
              "    .dataframe tbody tr th:only-of-type {\n",
              "        vertical-align: middle;\n",
              "    }\n",
              "\n",
              "    .dataframe tbody tr th {\n",
              "        vertical-align: top;\n",
              "    }\n",
              "\n",
              "    .dataframe thead th {\n",
              "        text-align: right;\n",
              "    }\n",
              "</style>\n",
              "<table border=\"1\" class=\"dataframe\">\n",
              "  <thead>\n",
              "    <tr style=\"text-align: right;\">\n",
              "      <th></th>\n",
              "      <th>Age</th>\n",
              "    </tr>\n",
              "  </thead>\n",
              "  <tbody>\n",
              "    <tr>\n",
              "      <th>0</th>\n",
              "      <td>22.000000</td>\n",
              "    </tr>\n",
              "    <tr>\n",
              "      <th>1</th>\n",
              "      <td>38.000000</td>\n",
              "    </tr>\n",
              "    <tr>\n",
              "      <th>2</th>\n",
              "      <td>26.000000</td>\n",
              "    </tr>\n",
              "    <tr>\n",
              "      <th>3</th>\n",
              "      <td>35.000000</td>\n",
              "    </tr>\n",
              "    <tr>\n",
              "      <th>4</th>\n",
              "      <td>35.000000</td>\n",
              "    </tr>\n",
              "    <tr>\n",
              "      <th>...</th>\n",
              "      <td>...</td>\n",
              "    </tr>\n",
              "    <tr>\n",
              "      <th>886</th>\n",
              "      <td>27.000000</td>\n",
              "    </tr>\n",
              "    <tr>\n",
              "      <th>887</th>\n",
              "      <td>19.000000</td>\n",
              "    </tr>\n",
              "    <tr>\n",
              "      <th>888</th>\n",
              "      <td>29.699118</td>\n",
              "    </tr>\n",
              "    <tr>\n",
              "      <th>889</th>\n",
              "      <td>26.000000</td>\n",
              "    </tr>\n",
              "    <tr>\n",
              "      <th>890</th>\n",
              "      <td>32.000000</td>\n",
              "    </tr>\n",
              "  </tbody>\n",
              "</table>\n",
              "<p>891 rows × 1 columns</p>\n",
              "</div><br><label><b>dtype:</b> float64</label>"
            ]
          },
          "metadata": {},
          "execution_count": 127
        }
      ]
    },
    {
      "cell_type": "markdown",
      "source": [
        "Se verifica que ahora si no hay valores nulos.\n",
        "Los 891 pasajeros tienen edad.\n",
        "\n",
        "Los pasajeros que no poseen una edad valida fueron establecidos con la edad promedio del resto de la tripulación que es de 29 años."
      ],
      "metadata": {
        "id": "wRmWvmCMdl91"
      }
    },
    {
      "cell_type": "markdown",
      "source": [
        "## Verificar las edades mínimas y máximas de los pasajeros"
      ],
      "metadata": {
        "id": "6I8d_9KQaN85"
      }
    },
    {
      "cell_type": "code",
      "source": [
        "min_age= datos[\"Age\"].min()\n",
        "max_age= datos[\"Age\"].max()\n",
        "print(f\"Edad mínima: {min_age}\")\n",
        "print(f\"Edad máxima: {max_age}\")"
      ],
      "metadata": {
        "colab": {
          "base_uri": "https://localhost:8080/"
        },
        "id": "CZpq7oYoiZS1",
        "outputId": "b607e6bc-7952-4b20-d9b4-2c7f034edb36"
      },
      "execution_count": 128,
      "outputs": [
        {
          "output_type": "stream",
          "name": "stdout",
          "text": [
            "Edad mínima: 0.42\n",
            "Edad máxima: 80.0\n"
          ]
        }
      ]
    },
    {
      "cell_type": "markdown",
      "source": [
        "Se calcula y muestra la edad mínima y máxima en la columna 'Age' después de haber rellenado los valores nulos, se estipula o se observa que hay bebes y gente de mayor edad abordo del barco."
      ],
      "metadata": {
        "id": "t-1L4ZrIajWw"
      }
    },
    {
      "cell_type": "markdown",
      "source": [
        "## Histograma de edades más específico"
      ],
      "metadata": {
        "id": "ePrN66c01_xQ"
      }
    },
    {
      "cell_type": "code",
      "source": [
        "\n",
        "sns.set_style(\"whitegrid\")\n",
        "\n",
        "# Histograma de Edades\n",
        "plt.figure(figsize=(15, 6))\n",
        "ax = sns.histplot(data=datos, x='Age', color='palevioletred', kde=True, shrink=.8)\n",
        "plt.title('Histograma de Edades')\n",
        "plt.xlabel('Age (Edad de los pasajeros)')\n",
        "plt.ylabel('Frecuencia')\n",
        "for container in ax.containers:\n",
        "    ax.bar_label(container, padding=2)\n",
        "plt.show()"
      ],
      "metadata": {
        "colab": {
          "base_uri": "https://localhost:8080/",
          "height": 484
        },
        "id": "XAhWXM2E2G6k",
        "outputId": "4cf444ae-e18f-410a-b318-fc485bf7a18e"
      },
      "execution_count": 129,
      "outputs": [
        {
          "output_type": "display_data",
          "data": {
            "text/plain": [
              "<Figure size 1500x600 with 1 Axes>"
            ],
            "image/png": "[encoded data removed]"
          },
          "metadata": {}
        }
      ]
    },
    {
      "cell_type": "markdown",
      "source": [
        "La edad de los pasajeros ronda mayormente entre los 20 y 40 años.\n",
        "El hecho de haber ajustado a los pasajeros sin edad a utilizar la edad promedio hizo que la cantidad de personas con la edad de 29 años escalará mucho."
      ],
      "metadata": {
        "id": "SclEHR22arI9"
      }
    },
    {
      "cell_type": "markdown",
      "source": [
        "## Verificar otras columnas con datos nulos"
      ],
      "metadata": {
        "id": "fEKoZp_gbHVQ"
      }
    },
    {
      "cell_type": "code",
      "source": [
        "datos.isna().sum()"
      ],
      "metadata": {
        "id": "z5P7zGmxSGGu",
        "colab": {
          "base_uri": "https://localhost:8080/",
          "height": 460
        },
        "outputId": "11e6a80c-95d1-443c-9d26-0ebeb5b68ae9"
      },
      "execution_count": 130,
      "outputs": [
        {
          "output_type": "execute_result",
          "data": {
            "text/plain": [
              "PassengerId      0\n",
              "Survived         0\n",
              "Pclass           0\n",
              "Name             0\n",
              "Sex              0\n",
              "Age              0\n",
              "SibSp            0\n",
              "Parch            0\n",
              "Ticket           0\n",
              "Fare             0\n",
              "Cabin          687\n",
              "Embarked         2\n",
              "dtype: int64"
            ],
            "text/html": [
              "<div>\n",
              "<style scoped>\n",
              "    .dataframe tbody tr th:only-of-type {\n",
              "        vertical-align: middle;\n",
              "    }\n",
              "\n",
              "    .dataframe tbody tr th {\n",
              "        vertical-align: top;\n",
              "    }\n",
              "\n",
              "    .dataframe thead th {\n",
              "        text-align: right;\n",
              "    }\n",
              "</style>\n",
              "<table border=\"1\" class=\"dataframe\">\n",
              "  <thead>\n",
              "    <tr style=\"text-align: right;\">\n",
              "      <th></th>\n",
              "      <th>0</th>\n",
              "    </tr>\n",
              "  </thead>\n",
              "  <tbody>\n",
              "    <tr>\n",
              "      <th>PassengerId</th>\n",
              "      <td>0</td>\n",
              "    </tr>\n",
              "    <tr>\n",
              "      <th>Survived</th>\n",
              "      <td>0</td>\n",
              "    </tr>\n",
              "    <tr>\n",
              "      <th>Pclass</th>\n",
              "      <td>0</td>\n",
              "    </tr>\n",
              "    <tr>\n",
              "      <th>Name</th>\n",
              "      <td>0</td>\n",
              "    </tr>\n",
              "    <tr>\n",
              "      <th>Sex</th>\n",
              "      <td>0</td>\n",
              "    </tr>\n",
              "    <tr>\n",
              "      <th>Age</th>\n",
              "      <td>0</td>\n",
              "    </tr>\n",
              "    <tr>\n",
              "      <th>SibSp</th>\n",
              "      <td>0</td>\n",
              "    </tr>\n",
              "    <tr>\n",
              "      <th>Parch</th>\n",
              "      <td>0</td>\n",
              "    </tr>\n",
              "    <tr>\n",
              "      <th>Ticket</th>\n",
              "      <td>0</td>\n",
              "    </tr>\n",
              "    <tr>\n",
              "      <th>Fare</th>\n",
              "      <td>0</td>\n",
              "    </tr>\n",
              "    <tr>\n",
              "      <th>Cabin</th>\n",
              "      <td>687</td>\n",
              "    </tr>\n",
              "    <tr>\n",
              "      <th>Embarked</th>\n",
              "      <td>2</td>\n",
              "    </tr>\n",
              "  </tbody>\n",
              "</table>\n",
              "</div><br><label><b>dtype:</b> int64</label>"
            ]
          },
          "metadata": {},
          "execution_count": 130
        }
      ]
    },
    {
      "cell_type": "markdown",
      "source": [
        "Se observa que más de la mitad de los pasajeros no poseen un cuarto o habitación registrado. Y una cantidad de dos pasajeros no poseen datos de en que punto se embarcaron podrían posiblemente ser gente de clase baja."
      ],
      "metadata": {
        "id": "_L7__y6ebGON"
      }
    },
    {
      "cell_type": "markdown",
      "source": [
        "## Descartar la columna o variable \"Cabin\""
      ],
      "metadata": {
        "id": "C_8qGjocbe9o"
      }
    },
    {
      "cell_type": "markdown",
      "source": [
        "El hecho de que la mayoría de pasajeros no tenga un cuarto o habitación, no es muy relevante para este estudio ya que se estudiará si el pasajero sobrevivió a partir de su género, edad o clase."
      ],
      "metadata": {
        "id": "Pg2CJE3tbkVw"
      }
    },
    {
      "cell_type": "code",
      "source": [
        "datos = datos.drop([\"Cabin\"], axis=1)"
      ],
      "metadata": {
        "id": "kJz6C-f2SQxx"
      },
      "execution_count": 131,
      "outputs": []
    },
    {
      "cell_type": "markdown",
      "source": [
        "Así que como entre las variables con mayor datos nulos esta la cabina o cuarto donde se hospedaban, este dato no se utilizará así que se remueve."
      ],
      "metadata": {
        "id": "NhFloVZxeFps"
      }
    },
    {
      "cell_type": "markdown",
      "source": [
        "## Observar variable \"Embarked\""
      ],
      "metadata": {
        "id": "lXdxxnLc49Cz"
      }
    },
    {
      "cell_type": "code",
      "source": [
        "datos[\"Embarked\"].value_counts()"
      ],
      "metadata": {
        "id": "C04tlv5sSWAR",
        "colab": {
          "base_uri": "https://localhost:8080/",
          "height": 210
        },
        "outputId": "3cbd6acb-86e1-475e-c2ac-60753bbb6fc5"
      },
      "execution_count": 132,
      "outputs": [
        {
          "output_type": "execute_result",
          "data": {
            "text/plain": [
              "Embarked\n",
              "S    644\n",
              "C    168\n",
              "Q     77\n",
              "Name: count, dtype: int64"
            ],
            "text/html": [
              "<div>\n",
              "<style scoped>\n",
              "    .dataframe tbody tr th:only-of-type {\n",
              "        vertical-align: middle;\n",
              "    }\n",
              "\n",
              "    .dataframe tbody tr th {\n",
              "        vertical-align: top;\n",
              "    }\n",
              "\n",
              "    .dataframe thead th {\n",
              "        text-align: right;\n",
              "    }\n",
              "</style>\n",
              "<table border=\"1\" class=\"dataframe\">\n",
              "  <thead>\n",
              "    <tr style=\"text-align: right;\">\n",
              "      <th></th>\n",
              "      <th>count</th>\n",
              "    </tr>\n",
              "    <tr>\n",
              "      <th>Embarked</th>\n",
              "      <th></th>\n",
              "    </tr>\n",
              "  </thead>\n",
              "  <tbody>\n",
              "    <tr>\n",
              "      <th>S</th>\n",
              "      <td>644</td>\n",
              "    </tr>\n",
              "    <tr>\n",
              "      <th>C</th>\n",
              "      <td>168</td>\n",
              "    </tr>\n",
              "    <tr>\n",
              "      <th>Q</th>\n",
              "      <td>77</td>\n",
              "    </tr>\n",
              "  </tbody>\n",
              "</table>\n",
              "</div><br><label><b>dtype:</b> int64</label>"
            ]
          },
          "metadata": {},
          "execution_count": 132
        }
      ]
    },
    {
      "cell_type": "markdown",
      "source": [
        "Entre las tres ciudades donde se embarcaron los pasajeros:\n",
        "C = Cherbourg, Q = Queenstown, S = Southampton\n",
        "\n",
        "La mayoría de pasajeros se embarcaron en Southampton."
      ],
      "metadata": {
        "id": "tG_NVLKqeeVm"
      }
    },
    {
      "cell_type": "code",
      "source": [
        "emb_count= 644 + 168 + 77\n",
        "print(f'{emb_count} / 891')"
      ],
      "metadata": {
        "colab": {
          "base_uri": "https://localhost:8080/"
        },
        "id": "SupUT0Nw5FR4",
        "outputId": "600efe8c-bb0b-4877-b037-6a06f704c431"
      },
      "execution_count": 133,
      "outputs": [
        {
          "output_type": "stream",
          "name": "stdout",
          "text": [
            "889 / 891\n"
          ]
        }
      ]
    },
    {
      "cell_type": "markdown",
      "source": [
        "Dos pasajeros no poseen un punto donde embarcaron. Se podría imputar los valores faltantes con la moda 'S' en este caso, pero son solo 2 valores,la diferencia en el rendimiento de los modelos sería mínima."
      ],
      "metadata": {
        "id": "-bePqiQ85Mso"
      }
    },
    {
      "cell_type": "markdown",
      "source": [
        "### Se descartan los pasajeros sin la variable 'Embarked'"
      ],
      "metadata": {
        "id": "x_vD_3I643Ms"
      }
    },
    {
      "cell_type": "code",
      "source": [
        "datos = datos.dropna()"
      ],
      "metadata": {
        "id": "ya42gGoXSdtE"
      },
      "execution_count": 134,
      "outputs": []
    },
    {
      "cell_type": "markdown",
      "source": [
        "Se utiliza la función para eliminar columnas con valores None, Nan."
      ],
      "metadata": {
        "id": "1nhCh12j8F6W"
      }
    },
    {
      "cell_type": "code",
      "source": [
        "datos.head()"
      ],
      "metadata": {
        "id": "Q51ILlwYSlFe",
        "colab": {
          "base_uri": "https://localhost:8080/",
          "height": 241
        },
        "outputId": "f8e5e90a-778c-4b66-c8cb-e578bc1b2179"
      },
      "execution_count": 135,
      "outputs": [
        {
          "output_type": "execute_result",
          "data": {
            "text/plain": [
              "   PassengerId  Survived  Pclass  \\\n",
              "0            1         0       3   \n",
              "1            2         1       1   \n",
              "2            3         1       3   \n",
              "3            4         1       1   \n",
              "4            5         0       3   \n",
              "\n",
              "                                                Name     Sex   Age  SibSp  \\\n",
              "0                            Braund, Mr. Owen Harris    male  22.0      1   \n",
              "1  Cumings, Mrs. John Bradley (Florence Briggs Th...  female  38.0      1   \n",
              "2                             Heikkinen, Miss. Laina  female  26.0      0   \n",
              "3       Futrelle, Mrs. Jacques Heath (Lily May Peel)  female  35.0      1   \n",
              "4                           Allen, Mr. William Henry    male  35.0      0   \n",
              "\n",
              "   Parch            Ticket     Fare Embarked  \n",
              "0      0         A/5 21171   7.2500        S  \n",
              "1      0          PC 17599  71.2833        C  \n",
              "2      0  STON/O2. 3101282   7.9250        S  \n",
              "3      0            113803  53.1000        S  \n",
              "4      0            373450   8.0500        S  "
            ],
            "text/html": [
              "\n",
              "  <div id=\"df-a833424c-2196-44e5-a348-fabafbb7ad76\" class=\"colab-df-container\">\n",
              "    <div>\n",
              "<style scoped>\n",
              "    .dataframe tbody tr th:only-of-type {\n",
              "        vertical-align: middle;\n",
              "    }\n",
              "\n",
              "    .dataframe tbody tr th {\n",
              "        vertical-align: top;\n",
              "    }\n",
              "\n",
              "    .dataframe thead th {\n",
              "        text-align: right;\n",
              "    }\n",
              "</style>\n",
              "<table border=\"1\" class=\"dataframe\">\n",
              "  <thead>\n",
              "    <tr style=\"text-align: right;\">\n",
              "      <th></th>\n",
              "      <th>PassengerId</th>\n",
              "      <th>Survived</th>\n",
              "      <th>Pclass</th>\n",
              "      <th>Name</th>\n",
              "      <th>Sex</th>\n",
              "      <th>Age</th>\n",
              "      <th>SibSp</th>\n",
              "      <th>Parch</th>\n",
              "      <th>Ticket</th>\n",
              "      <th>Fare</th>\n",
              "      <th>Embarked</th>\n",
              "    </tr>\n",
              "  </thead>\n",
              "  <tbody>\n",
              "    <tr>\n",
              "      <th>0</th>\n",
              "      <td>1</td>\n",
              "      <td>0</td>\n",
              "      <td>3</td>\n",
              "      <td>Braund, Mr. Owen Harris</td>\n",
              "      <td>male</td>\n",
              "      <td>22.0</td>\n",
              "      <td>1</td>\n",
              "      <td>0</td>\n",
              "      <td>A/5 21171</td>\n",
              "      <td>7.2500</td>\n",
              "      <td>S</td>\n",
              "    </tr>\n",
              "    <tr>\n",
              "      <th>1</th>\n",
              "      <td>2</td>\n",
              "      <td>1</td>\n",
              "      <td>1</td>\n",
              "      <td>Cumings, Mrs. John Bradley (Florence Briggs Th...</td>\n",
              "      <td>female</td>\n",
              "      <td>38.0</td>\n",
              "      <td>1</td>\n",
              "      <td>0</td>\n",
              "      <td>PC 17599</td>\n",
              "      <td>71.2833</td>\n",
              "      <td>C</td>\n",
              "    </tr>\n",
              "    <tr>\n",
              "      <th>2</th>\n",
              "      <td>3</td>\n",
              "      <td>1</td>\n",
              "      <td>3</td>\n",
              "      <td>Heikkinen, Miss. Laina</td>\n",
              "      <td>female</td>\n",
              "      <td>26.0</td>\n",
              "      <td>0</td>\n",
              "      <td>0</td>\n",
              "      <td>STON/O2. 3101282</td>\n",
              "      <td>7.9250</td>\n",
              "      <td>S</td>\n",
              "    </tr>\n",
              "    <tr>\n",
              "      <th>3</th>\n",
              "      <td>4</td>\n",
              "      <td>1</td>\n",
              "      <td>1</td>\n",
              "      <td>Futrelle, Mrs. Jacques Heath (Lily May Peel)</td>\n",
              "      <td>female</td>\n",
              "      <td>35.0</td>\n",
              "      <td>1</td>\n",
              "      <td>0</td>\n",
              "      <td>113803</td>\n",
              "      <td>53.1000</td>\n",
              "      <td>S</td>\n",
              "    </tr>\n",
              "    <tr>\n",
              "      <th>4</th>\n",
              "      <td>5</td>\n",
              "      <td>0</td>\n",
              "      <td>3</td>\n",
              "      <td>Allen, Mr. William Henry</td>\n",
              "      <td>male</td>\n",
              "      <td>35.0</td>\n",
              "      <td>0</td>\n",
              "      <td>0</td>\n",
              "      <td>373450</td>\n",
              "      <td>8.0500</td>\n",
              "      <td>S</td>\n",
              "    </tr>\n",
              "  </tbody>\n",
              "</table>\n",
              "</div>\n",
              "    <div class=\"colab-df-buttons\">\n",
              "\n",
              "  <div class=\"colab-df-container\">\n",
              "    <button class=\"colab-df-convert\" onclick=\"convertToInteractive('df-a833424c-2196-44e5-a348-fabafbb7ad76')\"\n",
              "            title=\"Convert this dataframe to an interactive table.\"\n",
              "            style=\"display:none;\">\n",
              "\n",
              "  <svg xmlns=\"http://www.w3.org/2000/svg\" height=\"24px\" viewBox=\"0 -960 960 960\">\n",
              "    <path d=\"M120-120v-720h720v720H120Zm60-500h600v-160H180v160Zm220 220h160v-160H400v160Zm0 220h160v-160H400v160ZM180-400h160v-160H180v160Zm440 0h160v-160H620v160ZM180-180h160v-160H180v160Zm440 0h160v-160H620v160Z\"/>\n",
              "  </svg>\n",
              "    </button>\n",
              "\n",
              "  <style>\n",
              "    .colab-df-container {\n",
              "      display:flex;\n",
              "      gap: 12px;\n",
              "    }\n",
              "\n",
              "    .colab-df-convert {\n",
              "      background-color: #E8F0FE;\n",
              "      border: none;\n",
              "      border-radius: 50%;\n",
              "      cursor: pointer;\n",
              "      display: none;\n",
              "      fill: #1967D2;\n",
              "      height: 32px;\n",
              "      padding: 0 0 0 0;\n",
              "      width: 32px;\n",
              "    }\n",
              "\n",
              "    .colab-df-convert:hover {\n",
              "      background-color: #E2EBFA;\n",
              "      box-shadow: 0px 1px 2px rgba(60, 64, 67, 0.3), 0px 1px 3px 1px rgba(60, 64, 67, 0.15);\n",
              "      fill: #174EA6;\n",
              "    }\n",
              "\n",
              "    .colab-df-buttons div {\n",
              "      margin-bottom: 4px;\n",
              "    }\n",
              "\n",
              "    [theme=dark] .colab-df-convert {\n",
              "      background-color: #3B4455;\n",
              "      fill: #D2E3FC;\n",
              "    }\n",
              "\n",
              "    [theme=dark] .colab-df-convert:hover {\n",
              "      background-color: #434B5C;\n",
              "      box-shadow: 0px 1px 3px 1px rgba(0, 0, 0, 0.15);\n",
              "      filter: drop-shadow(0px 1px 2px rgba(0, 0, 0, 0.3));\n",
              "      fill: #FFFFFF;\n",
              "    }\n",
              "  </style>\n",
              "\n",
              "    <script>\n",
              "      const buttonEl =\n",
              "        document.querySelector('#df-a833424c-2196-44e5-a348-fabafbb7ad76 button.colab-df-convert');\n",
              "      buttonEl.style.display =\n",
              "        google.colab.kernel.accessAllowed ? 'block' : 'none';\n",
              "\n",
              "      async function convertToInteractive(key) {\n",
              "        const element = document.querySelector('#df-a833424c-2196-44e5-a348-fabafbb7ad76');\n",
              "        const dataTable =\n",
              "          await google.colab.kernel.invokeFunction('convertToInteractive',\n",
              "                                                    [key], {});\n",
              "        if (!dataTable) return;\n",
              "\n",
              "        const docLinkHtml = 'Like what you see? Visit the ' +\n",
              "          '<a target=\"_blank\" href=https://colab.research.google.com/notebooks/data_table.ipynb>data table notebook</a>'\n",
              "          + ' to learn more about interactive tables.';\n",
              "        element.innerHTML = '';\n",
              "        dataTable['output_type'] = 'display_data';\n",
              "        await google.colab.output.renderOutput(dataTable, element);\n",
              "        const docLink = document.createElement('div');\n",
              "        docLink.innerHTML = docLinkHtml;\n",
              "        element.appendChild(docLink);\n",
              "      }\n",
              "    </script>\n",
              "  </div>\n",
              "\n",
              "\n",
              "    <div id=\"df-3e8df3fd-5488-484c-8b27-dd0adfdc4b8e\">\n",
              "      <button class=\"colab-df-quickchart\" onclick=\"quickchart('df-3e8df3fd-5488-484c-8b27-dd0adfdc4b8e')\"\n",
              "                title=\"Suggest charts\"\n",
              "                style=\"display:none;\">\n",
              "\n",
              "<svg xmlns=\"http://www.w3.org/2000/svg\" height=\"24px\"viewBox=\"0 0 24 24\"\n",
              "     width=\"24px\">\n",
              "    <g>\n",
              "        <path d=\"M19 3H5c-1.1 0-2 .9-2 2v14c0 1.1.9 2 2 2h14c1.1 0 2-.9 2-2V5c0-1.1-.9-2-2-2zM9 17H7v-7h2v7zm4 0h-2V7h2v10zm4 0h-2v-4h2v4z\"/>\n",
              "    </g>\n",
              "</svg>\n",
              "      </button>\n",
              "\n",
              "<style>\n",
              "  .colab-df-quickchart {\n",
              "      --bg-color: #E8F0FE;\n",
              "      --fill-color: #1967D2;\n",
              "      --hover-bg-color: #E2EBFA;\n",
              "      --hover-fill-color: #174EA6;\n",
              "      --disabled-fill-color: #AAA;\n",
              "      --disabled-bg-color: #DDD;\n",
              "  }\n",
              "\n",
              "  [theme=dark] .colab-df-quickchart {\n",
              "      --bg-color: #3B4455;\n",
              "      --fill-color: #D2E3FC;\n",
              "      --hover-bg-color: #434B5C;\n",
              "      --hover-fill-color: #FFFFFF;\n",
              "      --disabled-bg-color: #3B4455;\n",
              "      --disabled-fill-color: #666;\n",
              "  }\n",
              "\n",
              "  .colab-df-quickchart {\n",
              "    background-color: var(--bg-color);\n",
              "    border: none;\n",
              "    border-radius: 50%;\n",
              "    cursor: pointer;\n",
              "    display: none;\n",
              "    fill: var(--fill-color);\n",
              "    height: 32px;\n",
              "    padding: 0;\n",
              "    width: 32px;\n",
              "  }\n",
              "\n",
              "  .colab-df-quickchart:hover {\n",
              "    background-color: var(--hover-bg-color);\n",
              "    box-shadow: 0 1px 2px rgba(60, 64, 67, 0.3), 0 1px 3px 1px rgba(60, 64, 67, 0.15);\n",
              "    fill: var(--button-hover-fill-color);\n",
              "  }\n",
              "\n",
              "  .colab-df-quickchart-complete:disabled,\n",
              "  .colab-df-quickchart-complete:disabled:hover {\n",
              "    background-color: var(--disabled-bg-color);\n",
              "    fill: var(--disabled-fill-color);\n",
              "    box-shadow: none;\n",
              "  }\n",
              "\n",
              "  .colab-df-spinner {\n",
              "    border: 2px solid var(--fill-color);\n",
              "    border-color: transparent;\n",
              "    border-bottom-color: var(--fill-color);\n",
              "    animation:\n",
              "      spin 1s steps(1) infinite;\n",
              "  }\n",
              "\n",
              "  @keyframes spin {\n",
              "    0% {\n",
              "      border-color: transparent;\n",
              "      border-bottom-color: var(--fill-color);\n",
              "      border-left-color: var(--fill-color);\n",
              "    }\n",
              "    20% {\n",
              "      border-color: transparent;\n",
              "      border-left-color: var(--fill-color);\n",
              "      border-top-color: var(--fill-color);\n",
              "    }\n",
              "    30% {\n",
              "      border-color: transparent;\n",
              "      border-left-color: var(--fill-color);\n",
              "      border-top-color: var(--fill-color);\n",
              "      border-right-color: var(--fill-color);\n",
              "    }\n",
              "    40% {\n",
              "      border-color: transparent;\n",
              "      border-right-color: var(--fill-color);\n",
              "      border-top-color: var(--fill-color);\n",
              "    }\n",
              "    60% {\n",
              "      border-color: transparent;\n",
              "      border-right-color: var(--fill-color);\n",
              "    }\n",
              "    80% {\n",
              "      border-color: transparent;\n",
              "      border-right-color: var(--fill-color);\n",
              "      border-bottom-color: var(--fill-color);\n",
              "    }\n",
              "    90% {\n",
              "      border-color: transparent;\n",
              "      border-bottom-color: var(--fill-color);\n",
              "    }\n",
              "  }\n",
              "</style>\n",
              "\n",
              "      <script>\n",
              "        async function quickchart(key) {\n",
              "          const quickchartButtonEl =\n",
              "            document.querySelector('#' + key + ' button');\n",
              "          quickchartButtonEl.disabled = true;  // To prevent multiple clicks.\n",
              "          quickchartButtonEl.classList.add('colab-df-spinner');\n",
              "          try {\n",
              "            const charts = await google.colab.kernel.invokeFunction(\n",
              "                'suggestCharts', [key], {});\n",
              "          } catch (error) {\n",
              "            console.error('Error during call to suggestCharts:', error);\n",
              "          }\n",
              "          quickchartButtonEl.classList.remove('colab-df-spinner');\n",
              "          quickchartButtonEl.classList.add('colab-df-quickchart-complete');\n",
              "        }\n",
              "        (() => {\n",
              "          let quickchartButtonEl =\n",
              "            document.querySelector('#df-3e8df3fd-5488-484c-8b27-dd0adfdc4b8e button');\n",
              "          quickchartButtonEl.style.display =\n",
              "            google.colab.kernel.accessAllowed ? 'block' : 'none';\n",
              "        })();\n",
              "      </script>\n",
              "    </div>\n",
              "\n",
              "    </div>\n",
              "  </div>\n"
            ],
            "application/vnd.google.colaboratory.intrinsic+json": {
              "type": "dataframe",
              "variable_name": "datos",
              "summary": "{\n  \"name\": \"datos\",\n  \"rows\": 889,\n  \"fields\": [\n    {\n      \"column\": \"PassengerId\",\n      \"properties\": {\n        \"dtype\": \"number\",\n        \"std\": 256,\n        \"min\": 1,\n        \"max\": 891,\n        \"num_unique_values\": 889,\n        \"samples\": [\n          282,\n          436,\n          40\n        ],\n        \"semantic_type\": \"\",\n        \"description\": \"\"\n      }\n    },\n    {\n      \"column\": \"Survived\",\n      \"properties\": {\n        \"dtype\": \"number\",\n        \"std\": 0,\n        \"min\": 0,\n        \"max\": 1,\n        \"num_unique_values\": 2,\n        \"samples\": [\n          1,\n          0\n        ],\n        \"semantic_type\": \"\",\n        \"description\": \"\"\n      }\n    },\n    {\n      \"column\": \"Pclass\",\n      \"properties\": {\n        \"dtype\": \"number\",\n        \"std\": 0,\n        \"min\": 1,\n        \"max\": 3,\n        \"num_unique_values\": 3,\n        \"samples\": [\n          3,\n          1\n        ],\n        \"semantic_type\": \"\",\n        \"description\": \"\"\n      }\n    },\n    {\n      \"column\": \"Name\",\n      \"properties\": {\n        \"dtype\": \"string\",\n        \"num_unique_values\": 889,\n        \"samples\": [\n          \"Olsson, Mr. Nils Johan Goransson\",\n          \"Carter, Miss. Lucile Polk\"\n        ],\n        \"semantic_type\": \"\",\n        \"description\": \"\"\n      }\n    },\n    {\n      \"column\": \"Sex\",\n      \"properties\": {\n        \"dtype\": \"category\",\n        \"num_unique_values\": 2,\n        \"samples\": [\n          \"female\",\n          \"male\"\n        ],\n        \"semantic_type\": \"\",\n        \"description\": \"\"\n      }\n    },\n    {\n      \"column\": \"Age\",\n      \"properties\": {\n        \"dtype\": \"number\",\n        \"std\": 12.968366309252332,\n        \"min\": 0.42,\n        \"max\": 80.0,\n        \"num_unique_values\": 89,\n        \"samples\": [\n          59.0,\n          36.5\n        ],\n        \"semantic_type\": \"\",\n        \"description\": \"\"\n      }\n    },\n    {\n      \"column\": \"SibSp\",\n      \"properties\": {\n        \"dtype\": \"number\",\n        \"std\": 1,\n        \"min\": 0,\n        \"max\": 8,\n        \"num_unique_values\": 7,\n        \"samples\": [\n          1,\n          0\n        ],\n        \"semantic_type\": \"\",\n        \"description\": \"\"\n      }\n    },\n    {\n      \"column\": \"Parch\",\n      \"properties\": {\n        \"dtype\": \"number\",\n        \"std\": 0,\n        \"min\": 0,\n        \"max\": 6,\n        \"num_unique_values\": 7,\n        \"samples\": [\n          0,\n          1\n        ],\n        \"semantic_type\": \"\",\n        \"description\": \"\"\n      }\n    },\n    {\n      \"column\": \"Ticket\",\n      \"properties\": {\n        \"dtype\": \"string\",\n        \"num_unique_values\": 680,\n        \"samples\": [\n          \"11774\",\n          \"29105\"\n        ],\n        \"semantic_type\": \"\",\n        \"description\": \"\"\n      }\n    },\n    {\n      \"column\": \"Fare\",\n      \"properties\": {\n        \"dtype\": \"number\",\n        \"std\": 49.69750431670801,\n        \"min\": 0.0,\n        \"max\": 512.3292,\n        \"num_unique_values\": 247,\n        \"samples\": [\n          11.2417,\n          51.8625\n        ],\n        \"semantic_type\": \"\",\n        \"description\": \"\"\n      }\n    },\n    {\n      \"column\": \"Embarked\",\n      \"properties\": {\n        \"dtype\": \"category\",\n        \"num_unique_values\": 3,\n        \"samples\": [\n          \"S\",\n          \"C\"\n        ],\n        \"semantic_type\": \"\",\n        \"description\": \"\"\n      }\n    }\n  ]\n}"
            }
          },
          "metadata": {},
          "execution_count": 135
        }
      ]
    },
    {
      "cell_type": "markdown",
      "source": [
        "La función count, cuenta los registros que no poseen ninguna dato nulo, None, Nan.\n",
        "\n",
        "En este caso se eliminar los dos pasajeros que no poseían punto de embarque."
      ],
      "metadata": {
        "id": "Mm1c7n3E8SNB"
      }
    },
    {
      "cell_type": "code",
      "source": [
        "print(datos.count())"
      ],
      "metadata": {
        "colab": {
          "base_uri": "https://localhost:8080/"
        },
        "id": "cJSbX4o38Ng9",
        "outputId": "ec8fd205-d242-4b68-bd17-ff27aaafcb0e"
      },
      "execution_count": 136,
      "outputs": [
        {
          "output_type": "stream",
          "name": "stdout",
          "text": [
            "PassengerId    889\n",
            "Survived       889\n",
            "Pclass         889\n",
            "Name           889\n",
            "Sex            889\n",
            "Age            889\n",
            "SibSp          889\n",
            "Parch          889\n",
            "Ticket         889\n",
            "Fare           889\n",
            "Embarked       889\n",
            "dtype: int64\n"
          ]
        }
      ]
    },
    {
      "cell_type": "markdown",
      "source": [
        "## Dropear variables no relevantes para el estudio o que no serán utilizadas por el/los modelos"
      ],
      "metadata": {
        "id": "aGmSrDLonwy4"
      }
    },
    {
      "cell_type": "markdown",
      "source": [
        "Variables como id y nombre de pasajero no permitirían determinar si el pasajero murió o si sobrevivió a menos que se pudiera relacionar el nombre del mismo con variables externas a este dataset y que pudieran hacerlo relevante para predecir si cierta persona con aquel [nombre] murió o no.\n",
        "\n",
        "En este caso se descartaron ambas columnas junto a la columna ticket, la cual indica cuanto pago para subir al barco, esta no afecta mucho sabiendo que ya se posee la clase/nivel (1,2,3) al que pertenecia el pasajero."
      ],
      "metadata": {
        "id": "D-HpxMDsoUQk"
      }
    },
    {
      "cell_type": "code",
      "source": [
        "datos = datos.drop([\"Name\", \"PassengerId\", \"Ticket\"], axis=1)"
      ],
      "metadata": {
        "id": "YYAWbUd7SpG2"
      },
      "execution_count": 137,
      "outputs": []
    },
    {
      "cell_type": "markdown",
      "source": [
        "## Codificar la variable categórica nominal 'Sex' a número binario"
      ],
      "metadata": {
        "id": "RA_bnmLQn414"
      }
    },
    {
      "cell_type": "markdown",
      "source": [
        "convirtiendo las categorías 'masculino' y 'femenino' en representación numérica (0 o 1), eliminando la primera categoría para evitar la multicolinealidad.\n",
        "\n",
        "Esto debido a que dificulta determinar el efecto individual de cada variable y por que el hecho de dividir la columna sex en dos ya no hace que sea necesaria."
      ],
      "metadata": {
        "id": "kpxdDCrJ1rL3"
      }
    },
    {
      "cell_type": "code",
      "source": [
        "dummies_sex = pd.get_dummies(datos[\"Sex\"], drop_first=True)"
      ],
      "metadata": {
        "id": "NOuxBA3zSw18"
      },
      "execution_count": 138,
      "outputs": []
    },
    {
      "cell_type": "markdown",
      "source": [
        "get_dummies() se utilizó para convertir la variable de sexo (female,male) para convertir los valores de tipo categorico a numero binarios de 0 y 1."
      ],
      "metadata": {
        "id": "puPcHHU6fSPM"
      }
    },
    {
      "cell_type": "code",
      "source": [
        "datos = datos.join(dummies_sex)\n",
        "datos = datos.drop([\"Sex\"], axis=1)"
      ],
      "metadata": {
        "id": "IlQ9hiG0TQSl"
      },
      "execution_count": 139,
      "outputs": []
    },
    {
      "cell_type": "markdown",
      "source": [
        "Se dropeo la columna original y se utilizan las columnas nuevas entregadas por get_dummies."
      ],
      "metadata": {
        "id": "-CEXvS75oLjm"
      }
    },
    {
      "cell_type": "markdown",
      "source": [
        "## Observar supervivencia por punto de embarque y sexo."
      ],
      "metadata": {
        "id": "cp2jYzaXnGQK"
      }
    },
    {
      "cell_type": "code",
      "source": [
        "sb.countplot(x=\"Survived\", data=datos, hue=\"Embarked\")"
      ],
      "metadata": {
        "id": "NZyUEv5aTbxZ",
        "colab": {
          "base_uri": "https://localhost:8080/",
          "height": 467
        },
        "outputId": "3fe801fe-4d24-4a38-d256-e2f2b4a88264"
      },
      "execution_count": 140,
      "outputs": [
        {
          "output_type": "execute_result",
          "data": {
            "text/plain": [
              "<Axes: xlabel='Survived', ylabel='count'>"
            ]
          },
          "metadata": {},
          "execution_count": 140
        },
        {
          "output_type": "display_data",
          "data": {
            "text/plain": [
              "<Figure size 640x480 with 1 Axes>"
            ],
            "image/png": "[encoded data removed]"
          },
          "metadata": {}
        }
      ]
    },
    {
      "cell_type": "markdown",
      "source": [
        "## Codificar la variable categórica nominal 'Embarked' a número binario"
      ],
      "metadata": {
        "id": "K2Ga0hrW8vl4"
      }
    },
    {
      "cell_type": "code",
      "source": [
        "dummies_embarked = pd.get_dummies(datos[\"Embarked\"], drop_first=True)"
      ],
      "metadata": {
        "id": "D4eNMVS6TnWl"
      },
      "execution_count": 141,
      "outputs": []
    },
    {
      "cell_type": "markdown",
      "source": [
        "Los valores en punto de embarque se cambiaron con get_dummies() a columnas con valores binarios que representan el si subieron en ese ciudad o no."
      ],
      "metadata": {
        "id": "ZDLjQBgwyhhT"
      }
    },
    {
      "cell_type": "code",
      "source": [
        "datos = datos.join(dummies_embarked)\n",
        "datos = datos.drop([\"Embarked\"], axis=1)"
      ],
      "metadata": {
        "id": "rBKZ3bLITsJ1"
      },
      "execution_count": 142,
      "outputs": []
    },
    {
      "cell_type": "markdown",
      "source": [
        "## Ver nivel de correlación de las variables actuales en el dataset"
      ],
      "metadata": {
        "id": "4NIcqSvX8yoN"
      }
    },
    {
      "cell_type": "code",
      "source": [
        "sb.heatmap(datos.corr(), annot=True, cmap=\"YlGnBu\")"
      ],
      "metadata": {
        "id": "cd169FI5T1ox",
        "colab": {
          "base_uri": "https://localhost:8080/",
          "height": 500
        },
        "outputId": "e90095e4-6342-4841-b409-4caa18a1ddf1"
      },
      "execution_count": 143,
      "outputs": [
        {
          "output_type": "execute_result",
          "data": {
            "text/plain": [
              "<Axes: >"
            ]
          },
          "metadata": {},
          "execution_count": 143
        },
        {
          "output_type": "display_data",
          "data": {
            "text/plain": [
              "<Figure size 640x480 with 2 Axes>"
            ],
            "image/png": "[encoded data removed]"
          },
          "metadata": {}
        }
      ]
    },
    {
      "cell_type": "markdown",
      "source": [
        "El mapa indica que la corelación más grande es la de los miembros de la familia del pasajero con (número de padres/niños a bordo con hermanos y esposos/as).\n",
        "\n",
        "\n",
        "También el siguiente coeficiente correlación más grande es el de Parch/SibSp con tarifa o boleto, lo cual tiene cierto sentido sabiendo que mientras más miembros o gente poseía la familia estos pagaban un precio más alto por todos ellos.\n",
        "\n",
        "Los demás indices con menor valor son:\n",
        "\n",
        "- Con la clase del pasajero y el punto de embarque de QueensTown este es de un 0.22 podría representar que quizás una clase más baja/más alta se subio especificamente en QueensTown.\n",
        "\n",
        "- También esta el indice de 0.26 entre tarifa/boleto y supervivencia, que quizás indica que el hecho de poseer un boleto si afecto la posibilidad de que estos pasajeros pudieran sobrevivir.\n",
        "\n",
        "\n",
        "---\n",
        "\n",
        "\n",
        "El color map es de Amarillo,Verde y Azul.\n",
        "El coeficiente de correlación que utiliza heat-map en este caso como matriz de correlación, es el método .corr() de Pandas que calcula esto, utiliza el coeficiente de relación de Pearson."
      ],
      "metadata": {
        "id": "RdhTiDE3uxOT"
      }
    },
    {
      "cell_type": "markdown",
      "source": [
        "## Gráfico de pasajeros y nivel/clase"
      ],
      "metadata": {
        "id": "ZByqFEt4ji7q"
      }
    },
    {
      "cell_type": "markdown",
      "source": [
        "Se muestra este gráfico para visualizar el número de supervivientes y no-supervivientes, segmentandolos por la clase del pasajero.\n"
      ],
      "metadata": {
        "id": "fmziMazijqdm"
      }
    },
    {
      "cell_type": "code",
      "source": [
        "sb.countplot(x=\"Survived\", data=datos, hue=\"Pclass\")"
      ],
      "metadata": {
        "id": "26BzIdo5UL_-",
        "colab": {
          "base_uri": "https://localhost:8080/",
          "height": 467
        },
        "outputId": "4ec51ae1-9d6f-41ab-97fc-3b372ed661a9"
      },
      "execution_count": 144,
      "outputs": [
        {
          "output_type": "execute_result",
          "data": {
            "text/plain": [
              "<Axes: xlabel='Survived', ylabel='count'>"
            ]
          },
          "metadata": {},
          "execution_count": 144
        },
        {
          "output_type": "display_data",
          "data": {
            "text/plain": [
              "<Figure size 640x480 with 1 Axes>"
            ],
            "image/png": "[encoded data removed]"
          },
          "metadata": {}
        }
      ]
    },
    {
      "cell_type": "markdown",
      "source": [
        "Se observa que la mayoría de pasajeros de clase baja (nivel 3) murió o no sobrevivió al titanic. También se demuestra que la gente que sobrevivió de cada clase fue bastante similar pero si adjuntamos la cantidad de gente no sobrevivió, el barco poseía a bordo una mayor cantidad de gente en la clase más baja.\n",
        "\n"
      ],
      "metadata": {
        "id": "mkwqvb-0wya3"
      }
    },
    {
      "cell_type": "markdown",
      "source": [
        "# Trabajo en clases 1 || Revisar modelos (Classification Tree, Random Forest, Naive Bayes)"
      ],
      "metadata": {
        "id": "7u-_jNTg-FA9"
      }
    },
    {
      "cell_type": "markdown",
      "source": [
        "## Definir variables objetivo y explicativas."
      ],
      "metadata": {
        "id": "D2z_hAL36cpo"
      }
    },
    {
      "cell_type": "markdown",
      "source": [
        "Se Definen las variables objetivo y explicativas.\n",
        "Y se separa el DataFrame en (features) y la variable objetivo ('Survived').\n",
        "\n",
        "Osea se hará la predicción sobre si sobrevivió el pasajero."
      ],
      "metadata": {
        "id": "W6AXmimkhfxq"
      }
    },
    {
      "cell_type": "code",
      "source": [
        "variable_explicativa = datos.drop([\"Survived\"], axis=1)\n",
        "variable_objetivo = datos[\"Survived\"]"
      ],
      "metadata": {
        "id": "y4dtnE04Ud3Q"
      },
      "execution_count": 145,
      "outputs": []
    },
    {
      "cell_type": "markdown",
      "source": [
        "## Arbol decisión\n",
        "\n",
        "> Nota: Pensaba modificar el arbol de decisión que venía por defecto en el trabajo original pero la verdad no se si estuviera mal hacerlo, decidí dejarlo así y después incluir en manera más simple los otros modelos o algoritmos (Random Forest, Naive Bayes) para así después calcular la precisión de todos estos algoritmos."
      ],
      "metadata": {
        "id": "PWFM2t9pmhag"
      }
    },
    {
      "cell_type": "markdown",
      "source": [
        "### Testear el modelo de arbol de decisión con un training/test size de 100%, 80/20 y 60/40 (Observar)"
      ],
      "metadata": {
        "id": "WuWZ68nTh7DO"
      }
    },
    {
      "cell_type": "code",
      "source": [
        "from sklearn.model_selection import train_test_split\n",
        "\n",
        "## Conjunto de prueba 100%\n",
        "X_ent, X_pru, y_ent, y_pru = train_test_split(variable_explicativa, variable_objetivo)\n",
        "\n",
        "## Conjunto de prueba 90/10\n",
        "X_ent_10, X_pru_10, y_ent_10, y_pru_10 = train_test_split(variable_explicativa, variable_objetivo, test_size=.1)\n",
        "\n",
        "## Conjunto de prueba 60/40.\n",
        "X_ent_40, X_pru_40, y_ent_40, y_pru_40 = train_test_split(variable_explicativa, variable_objetivo, test_size=.4)"
      ],
      "metadata": {
        "id": "mnqtdoa8Uim8"
      },
      "execution_count": 146,
      "outputs": []
    },
    {
      "cell_type": "markdown",
      "source": [
        "- X_ent: Las características del conjunto de entrenamiento.\n",
        "- X_pru: Las características del conjunto de prueba.\n",
        "- y_ent: La variable objetivo del conjunto de entrenamiento.\n",
        "- y_pru: La variable objetivo del conjunto de prueba."
      ],
      "metadata": {
        "id": "LnhTF5D514fU"
      }
    },
    {
      "cell_type": "markdown",
      "source": [
        "### Verificando nivel de precisión de arbol de decisión (nivel de profundidad del 1 al 14)"
      ],
      "metadata": {
        "id": "hjHK7hW0HB3s"
      }
    },
    {
      "cell_type": "markdown",
      "source": [
        "Preparando el modelo para observar que nivel de precisión hay entre los niveles de 1 a 14 de profundidad."
      ],
      "metadata": {
        "id": "d-xrvuLP9_Sp"
      }
    },
    {
      "cell_type": "code",
      "source": [
        "from sklearn.tree import DecisionTreeClassifier\n",
        "resultados = []\n",
        "for i in range(1,15):\n",
        "  modelo = DecisionTreeClassifier(max_depth=i)\n",
        "  modelo.fit(X_ent, y_ent)\n",
        "  predicciones = modelo.predict(X_pru)\n",
        "  exactitud = accuracy_score(y_pru, predicciones)\n",
        "  print(f\"Resultado para {i}: {exactitud}\")\n",
        "  resultados.append(exactitud)"
      ],
      "metadata": {
        "id": "SiUncZ9NQmIg",
        "colab": {
          "base_uri": "https://localhost:8080/"
        },
        "outputId": "e67edcc6-a33f-4f52-96a9-2217f334c7b3"
      },
      "execution_count": 147,
      "outputs": [
        {
          "output_type": "stream",
          "name": "stdout",
          "text": [
            "Resultado para 1: 0.757847533632287\n",
            "Resultado para 2: 0.757847533632287\n",
            "Resultado para 3: 0.7937219730941704\n",
            "Resultado para 4: 0.820627802690583\n",
            "Resultado para 5: 0.8295964125560538\n",
            "Resultado para 6: 0.8430493273542601\n",
            "Resultado para 7: 0.8430493273542601\n",
            "Resultado para 8: 0.852017937219731\n",
            "Resultado para 9: 0.8475336322869955\n",
            "Resultado para 10: 0.8654708520179372\n",
            "Resultado para 11: 0.8385650224215246\n",
            "Resultado para 12: 0.874439461883408\n",
            "Resultado para 13: 0.8295964125560538\n",
            "Resultado para 14: 0.8251121076233184\n"
          ]
        }
      ]
    },
    {
      "cell_type": "markdown",
      "source": [
        "### Gráfico de comparación de niveles de accuracy en niveles depth en arbol de decisión."
      ],
      "metadata": {
        "id": "trOWgrmK3quf"
      }
    },
    {
      "cell_type": "code",
      "source": [
        "sb.lineplot(data=resultados)"
      ],
      "metadata": {
        "id": "aD60FdX3QmAB",
        "colab": {
          "base_uri": "https://localhost:8080/",
          "height": 453
        },
        "outputId": "e2ac8a72-f4dd-4900-c29e-5dc7e73cdb16"
      },
      "execution_count": 148,
      "outputs": [
        {
          "output_type": "execute_result",
          "data": {
            "text/plain": [
              "<Axes: >"
            ]
          },
          "metadata": {},
          "execution_count": 148
        },
        {
          "output_type": "display_data",
          "data": {
            "text/plain": [
              "<Figure size 640x480 with 1 Axes>"
            ],
            "image/png": "[encoded data removed]"
          },
          "metadata": {}
        }
      ]
    },
    {
      "cell_type": "markdown",
      "source": [
        "La exactitud más baja se consigye utilizando de 1 a 7 niveles, mientras que la exactitud en niveles más altos lográ mejor exactitud pero es más costosa al tener más niveles"
      ],
      "metadata": {
        "id": "H1cDKUnF34fD"
      }
    },
    {
      "cell_type": "markdown",
      "source": [
        "### Observar medidas de Arbol de decisión"
      ],
      "metadata": {
        "id": "UxsVo4bYnwEs"
      }
    },
    {
      "cell_type": "markdown",
      "source": [
        "El nivel con mayor nivel de exactitud es 12, se escogera debido a que esta entre los primeros 15 niveles."
      ],
      "metadata": {
        "id": "i2m3z1_e-v57"
      }
    },
    {
      "cell_type": "markdown",
      "source": [
        "Probamos primero el modelo con el 100% de los datos."
      ],
      "metadata": {
        "id": "29ue6ubzBE3Y"
      }
    },
    {
      "cell_type": "code",
      "source": [
        "modelo = DecisionTreeClassifier(max_depth=12)\n",
        "modelo.fit(X_ent, y_ent)\n",
        "predicciones = modelo.predict(X_pru)\n",
        "exactitud = accuracy_score(y_pru, predicciones)"
      ],
      "metadata": {
        "id": "YxXmYC06Ql41"
      },
      "execution_count": 149,
      "outputs": []
    },
    {
      "cell_type": "markdown",
      "source": [
        "Segundo, el modelo de 90/10."
      ],
      "metadata": {
        "id": "X89WhRxzBJlP"
      }
    },
    {
      "cell_type": "code",
      "source": [
        "modelo_2 = DecisionTreeClassifier(max_depth=12)\n",
        "modelo_2.fit(X_ent_10, y_ent_10)\n",
        "predicciones_2 = modelo_2.predict(X_pru_10)\n",
        "exactitud_2 = accuracy_score(y_pru_10, predicciones_2)"
      ],
      "metadata": {
        "id": "N9ifE7daBM6O"
      },
      "execution_count": 150,
      "outputs": []
    },
    {
      "cell_type": "markdown",
      "source": [
        "Tercero, el modelo 60/40."
      ],
      "metadata": {
        "id": "5K2rU-jDBQ7Z"
      }
    },
    {
      "cell_type": "code",
      "source": [
        "modelo_3 = DecisionTreeClassifier(max_depth=12)\n",
        "modelo_3.fit(X_ent_40, y_ent_40)\n",
        "predicciones_3 = modelo_3.predict(X_pru_40)\n",
        "exactitud_3 = accuracy_score(y_pru_40, predicciones_3)"
      ],
      "metadata": {
        "id": "E-awNgibBXTv"
      },
      "execution_count": 151,
      "outputs": []
    },
    {
      "cell_type": "markdown",
      "source": [
        "### Mostrar comparación entre entrenar el arbol de decisión con el set completo, 90/10 y 60/40."
      ],
      "metadata": {
        "id": "o4f1YCaMDVq3"
      }
    },
    {
      "cell_type": "code",
      "source": [
        "from sklearn.metrics import classification_report\n",
        "\n",
        "# Report for 100% data (using variables from cell 2e445328)\n",
        "print(\"--- Decision Tree Classification Report (100% Data) ---\")\n",
        "# Ensure variables from cell 2e445328 are accessible\n",
        "try:\n",
        "    print(classification_report(variable_objetivo, modelo.predict(variable_explicativa)))\n",
        "except NameError:\n",
        "    print(\"Variables for 100% data not found. Please run the cell with full data training.\")\n",
        "print(\"-\" * 30)\n",
        "\n",
        "# Report for 60/40 split (using variables from cell E-awNgibBXTv)\n",
        "print(\"--- Decision Tree Classification Report (60/40 Split) ---\")\n",
        "# Ensure variables from cell E-awNgibBXTv are accessible\n",
        "try:\n",
        "    print(classification_report(y_pru_40, modelo_2.predict(X_pru_40)))\n",
        "except NameError:\n",
        "     print(\"Variables for 60/40 split not found. Please run the cell with 60/40 split training.\")\n",
        "print(\"-\" * 30)\n",
        "\n",
        "# Report for 90/10 split (using variables from cell N9ifE7daBM6O)\n",
        "print(\"--- Decision Tree Classification Report (90/10 Split) ---\")\n",
        "# Ensure variables from cell N9ifE7daBM6O are accessible\n",
        "try:\n",
        "    print(classification_report(y_pru_10, modelo_3.predict(X_pru_10)))\n",
        "except NameError:\n",
        "     print(\"Variables for 90/10 split not found. Please run the cell with 90/10 split training.\")\n",
        "print(\"-\" * 30)\n",
        "\n",
        "# Keep the line to print columns if desired\n",
        "X_ent.columns"
      ],
      "metadata": {
        "colab": {
          "base_uri": "https://localhost:8080/"
        },
        "id": "hf9L_7S0sVVE",
        "outputId": "765987d4-4e23-4ff3-f277-617a5108927c"
      },
      "execution_count": 152,
      "outputs": [
        {
          "output_type": "stream",
          "name": "stdout",
          "text": [
            "--- Decision Tree Classification Report (100% Data) ---\n",
            "              precision    recall  f1-score   support\n",
            "\n",
            "           0       0.93      0.95      0.94       549\n",
            "           1       0.92      0.88      0.90       340\n",
            "\n",
            "    accuracy                           0.93       889\n",
            "   macro avg       0.93      0.92      0.92       889\n",
            "weighted avg       0.93      0.93      0.93       889\n",
            "\n",
            "------------------------------\n",
            "--- Decision Tree Classification Report (60/40 Split) ---\n",
            "              precision    recall  f1-score   support\n",
            "\n",
            "           0       0.92      0.95      0.94       219\n",
            "           1       0.92      0.88      0.90       137\n",
            "\n",
            "    accuracy                           0.92       356\n",
            "   macro avg       0.92      0.92      0.92       356\n",
            "weighted avg       0.92      0.92      0.92       356\n",
            "\n",
            "------------------------------\n",
            "--- Decision Tree Classification Report (90/10 Split) ---\n",
            "              precision    recall  f1-score   support\n",
            "\n",
            "           0       0.92      0.89      0.91        54\n",
            "           1       0.84      0.89      0.86        35\n",
            "\n",
            "    accuracy                           0.89        89\n",
            "   macro avg       0.88      0.89      0.88        89\n",
            "weighted avg       0.89      0.89      0.89        89\n",
            "\n",
            "------------------------------\n"
          ]
        },
        {
          "output_type": "execute_result",
          "data": {
            "text/plain": [
              "Index(['Pclass', 'Age', 'SibSp', 'Parch', 'Fare', 'male', 'Q', 'S'], dtype='object')"
            ]
          },
          "metadata": {},
          "execution_count": 152
        }
      ]
    },
    {
      "cell_type": "markdown",
      "source": [
        "Si se observa los resultados, entonces se puede decir que la precisión más grande al momento de determinar si la persona sobrevivió o no, se consigue utilizando el modelo con el set completo, los 60/40, 90/10 estas segmentaciones poseen una menor precisión si la persona no sobrevivió como también un menor exactitud o accuracy comparada a utilizar todo el segmento de los datos."
      ],
      "metadata": {
        "id": "A8sNBMe9C4gP"
      }
    },
    {
      "cell_type": "markdown",
      "source": [
        "Para mencionar cual es mejor, se podría maximizar la precisión al predecir la supervivencia (Clase 1) en datos no vistos, el set completo parece dar el mejor resultado para el Árbol de Decisión (precisión de 0.93). Sin embargo, el accuracy general es similar entre 100% y 60/40, y un poco menor en 90/10.\n",
        "\n",
        "\n",
        "--------------------------------------------------------------------------------\n",
        "\n",
        "\n",
        "La decisión de cual modelo es mejor se hará al comparar estos resultados con el resto de modelos."
      ],
      "metadata": {
        "id": "Bn1wGWcxE5_2"
      }
    },
    {
      "cell_type": "markdown",
      "source": [
        "### Graficar arbol con profundidad de 3 niveles"
      ],
      "metadata": {
        "id": "zAR0uxqXqVIs"
      }
    },
    {
      "cell_type": "markdown",
      "source": [
        "El resultado de exactitud de `depth=3` fue:\n",
        "\n",
        "Resultado para 12: `0.874439461883408`\n",
        "Lo cual es un resultado bastante alto, y permite llegar a una predicción más exacta sin la necesidad de más niveles."
      ],
      "metadata": {
        "id": "gzGEML5ZHZKh"
      }
    },
    {
      "cell_type": "code",
      "source": [
        "from sklearn.tree import plot_tree\n",
        "import matplotlib.pyplot as plt\n",
        "\n",
        "plt.figure(figsize=(14,8))\n",
        "plot_tree(decision_tree=modelo,feature_names=variable_explicativa.columns, filled=True);"
      ],
      "metadata": {
        "id": "r2S9yPrmQlwy",
        "colab": {
          "base_uri": "https://localhost:8080/",
          "height": 673
        },
        "outputId": "ea73f993-72a7-4a40-9732-6a51eaebf29c"
      },
      "execution_count": 154,
      "outputs": [
        {
          "output_type": "display_data",
          "data": {
            "text/plain": [
              "<Figure size 1400x800 with 1 Axes>"
            ],
            "image/png": "[encoded data removed]"
          },
          "metadata": {}
        }
      ]
    },
    {
      "cell_type": "markdown",
      "source": [
        "### Matriz de confusión para medir el nivel de precisión que posee el modelo."
      ],
      "metadata": {
        "id": "rDRU3Bd7qmb0"
      }
    },
    {
      "cell_type": "code",
      "source": [
        "pd.DataFrame(confusion_matrix(y_pru, predicciones), columns=[\"Pred: No\", \"Pred: Si\"], index=[\"Real: No\", \"Real: Si\"])"
      ],
      "metadata": {
        "id": "YoK_wZfBVloH",
        "colab": {
          "base_uri": "https://localhost:8080/",
          "height": 112
        },
        "outputId": "39807d04-596a-4831-c5a4-e17ae9e45598"
      },
      "execution_count": 155,
      "outputs": [
        {
          "output_type": "execute_result",
          "data": {
            "text/plain": [
              "          Pred: No  Pred: Si\n",
              "Real: No       120        22\n",
              "Real: Si        11        70"
            ],
            "text/html": [
              "\n",
              "  <div id=\"df-65283cba-c9c6-4013-850c-a538ef45d24d\" class=\"colab-df-container\">\n",
              "    <div>\n",
              "<style scoped>\n",
              "    .dataframe tbody tr th:only-of-type {\n",
              "        vertical-align: middle;\n",
              "    }\n",
              "\n",
              "    .dataframe tbody tr th {\n",
              "        vertical-align: top;\n",
              "    }\n",
              "\n",
              "    .dataframe thead th {\n",
              "        text-align: right;\n",
              "    }\n",
              "</style>\n",
              "<table border=\"1\" class=\"dataframe\">\n",
              "  <thead>\n",
              "    <tr style=\"text-align: right;\">\n",
              "      <th></th>\n",
              "      <th>Pred: No</th>\n",
              "      <th>Pred: Si</th>\n",
              "    </tr>\n",
              "  </thead>\n",
              "  <tbody>\n",
              "    <tr>\n",
              "      <th>Real: No</th>\n",
              "      <td>120</td>\n",
              "      <td>22</td>\n",
              "    </tr>\n",
              "    <tr>\n",
              "      <th>Real: Si</th>\n",
              "      <td>11</td>\n",
              "      <td>70</td>\n",
              "    </tr>\n",
              "  </tbody>\n",
              "</table>\n",
              "</div>\n",
              "    <div class=\"colab-df-buttons\">\n",
              "\n",
              "  <div class=\"colab-df-container\">\n",
              "    <button class=\"colab-df-convert\" onclick=\"convertToInteractive('df-65283cba-c9c6-4013-850c-a538ef45d24d')\"\n",
              "            title=\"Convert this dataframe to an interactive table.\"\n",
              "            style=\"display:none;\">\n",
              "\n",
              "  <svg xmlns=\"http://www.w3.org/2000/svg\" height=\"24px\" viewBox=\"0 -960 960 960\">\n",
              "    <path d=\"M120-120v-720h720v720H120Zm60-500h600v-160H180v160Zm220 220h160v-160H400v160Zm0 220h160v-160H400v160ZM180-400h160v-160H180v160Zm440 0h160v-160H620v160ZM180-180h160v-160H180v160Zm440 0h160v-160H620v160Z\"/>\n",
              "  </svg>\n",
              "    </button>\n",
              "\n",
              "  <style>\n",
              "    .colab-df-container {\n",
              "      display:flex;\n",
              "      gap: 12px;\n",
              "    }\n",
              "\n",
              "    .colab-df-convert {\n",
              "      background-color: #E8F0FE;\n",
              "      border: none;\n",
              "      border-radius: 50%;\n",
              "      cursor: pointer;\n",
              "      display: none;\n",
              "      fill: #1967D2;\n",
              "      height: 32px;\n",
              "      padding: 0 0 0 0;\n",
              "      width: 32px;\n",
              "    }\n",
              "\n",
              "    .colab-df-convert:hover {\n",
              "      background-color: #E2EBFA;\n",
              "      box-shadow: 0px 1px 2px rgba(60, 64, 67, 0.3), 0px 1px 3px 1px rgba(60, 64, 67, 0.15);\n",
              "      fill: #174EA6;\n",
              "    }\n",
              "\n",
              "    .colab-df-buttons div {\n",
              "      margin-bottom: 4px;\n",
              "    }\n",
              "\n",
              "    [theme=dark] .colab-df-convert {\n",
              "      background-color: #3B4455;\n",
              "      fill: #D2E3FC;\n",
              "    }\n",
              "\n",
              "    [theme=dark] .colab-df-convert:hover {\n",
              "      background-color: #434B5C;\n",
              "      box-shadow: 0px 1px 3px 1px rgba(0, 0, 0, 0.15);\n",
              "      filter: drop-shadow(0px 1px 2px rgba(0, 0, 0, 0.3));\n",
              "      fill: #FFFFFF;\n",
              "    }\n",
              "  </style>\n",
              "\n",
              "    <script>\n",
              "      const buttonEl =\n",
              "        document.querySelector('#df-65283cba-c9c6-4013-850c-a538ef45d24d button.colab-df-convert');\n",
              "      buttonEl.style.display =\n",
              "        google.colab.kernel.accessAllowed ? 'block' : 'none';\n",
              "\n",
              "      async function convertToInteractive(key) {\n",
              "        const element = document.querySelector('#df-65283cba-c9c6-4013-850c-a538ef45d24d');\n",
              "        const dataTable =\n",
              "          await google.colab.kernel.invokeFunction('convertToInteractive',\n",
              "                                                    [key], {});\n",
              "        if (!dataTable) return;\n",
              "\n",
              "        const docLinkHtml = 'Like what you see? Visit the ' +\n",
              "          '<a target=\"_blank\" href=https://colab.research.google.com/notebooks/data_table.ipynb>data table notebook</a>'\n",
              "          + ' to learn more about interactive tables.';\n",
              "        element.innerHTML = '';\n",
              "        dataTable['output_type'] = 'display_data';\n",
              "        await google.colab.output.renderOutput(dataTable, element);\n",
              "        const docLink = document.createElement('div');\n",
              "        docLink.innerHTML = docLinkHtml;\n",
              "        element.appendChild(docLink);\n",
              "      }\n",
              "    </script>\n",
              "  </div>\n",
              "\n",
              "\n",
              "    <div id=\"df-f11ca6b6-e317-43a2-a420-7f53dd4f2eab\">\n",
              "      <button class=\"colab-df-quickchart\" onclick=\"quickchart('df-f11ca6b6-e317-43a2-a420-7f53dd4f2eab')\"\n",
              "                title=\"Suggest charts\"\n",
              "                style=\"display:none;\">\n",
              "\n",
              "<svg xmlns=\"http://www.w3.org/2000/svg\" height=\"24px\"viewBox=\"0 0 24 24\"\n",
              "     width=\"24px\">\n",
              "    <g>\n",
              "        <path d=\"M19 3H5c-1.1 0-2 .9-2 2v14c0 1.1.9 2 2 2h14c1.1 0 2-.9 2-2V5c0-1.1-.9-2-2-2zM9 17H7v-7h2v7zm4 0h-2V7h2v10zm4 0h-2v-4h2v4z\"/>\n",
              "    </g>\n",
              "</svg>\n",
              "      </button>\n",
              "\n",
              "<style>\n",
              "  .colab-df-quickchart {\n",
              "      --bg-color: #E8F0FE;\n",
              "      --fill-color: #1967D2;\n",
              "      --hover-bg-color: #E2EBFA;\n",
              "      --hover-fill-color: #174EA6;\n",
              "      --disabled-fill-color: #AAA;\n",
              "      --disabled-bg-color: #DDD;\n",
              "  }\n",
              "\n",
              "  [theme=dark] .colab-df-quickchart {\n",
              "      --bg-color: #3B4455;\n",
              "      --fill-color: #D2E3FC;\n",
              "      --hover-bg-color: #434B5C;\n",
              "      --hover-fill-color: #FFFFFF;\n",
              "      --disabled-bg-color: #3B4455;\n",
              "      --disabled-fill-color: #666;\n",
              "  }\n",
              "\n",
              "  .colab-df-quickchart {\n",
              "    background-color: var(--bg-color);\n",
              "    border: none;\n",
              "    border-radius: 50%;\n",
              "    cursor: pointer;\n",
              "    display: none;\n",
              "    fill: var(--fill-color);\n",
              "    height: 32px;\n",
              "    padding: 0;\n",
              "    width: 32px;\n",
              "  }\n",
              "\n",
              "  .colab-df-quickchart:hover {\n",
              "    background-color: var(--hover-bg-color);\n",
              "    box-shadow: 0 1px 2px rgba(60, 64, 67, 0.3), 0 1px 3px 1px rgba(60, 64, 67, 0.15);\n",
              "    fill: var(--button-hover-fill-color);\n",
              "  }\n",
              "\n",
              "  .colab-df-quickchart-complete:disabled,\n",
              "  .colab-df-quickchart-complete:disabled:hover {\n",
              "    background-color: var(--disabled-bg-color);\n",
              "    fill: var(--disabled-fill-color);\n",
              "    box-shadow: none;\n",
              "  }\n",
              "\n",
              "  .colab-df-spinner {\n",
              "    border: 2px solid var(--fill-color);\n",
              "    border-color: transparent;\n",
              "    border-bottom-color: var(--fill-color);\n",
              "    animation:\n",
              "      spin 1s steps(1) infinite;\n",
              "  }\n",
              "\n",
              "  @keyframes spin {\n",
              "    0% {\n",
              "      border-color: transparent;\n",
              "      border-bottom-color: var(--fill-color);\n",
              "      border-left-color: var(--fill-color);\n",
              "    }\n",
              "    20% {\n",
              "      border-color: transparent;\n",
              "      border-left-color: var(--fill-color);\n",
              "      border-top-color: var(--fill-color);\n",
              "    }\n",
              "    30% {\n",
              "      border-color: transparent;\n",
              "      border-left-color: var(--fill-color);\n",
              "      border-top-color: var(--fill-color);\n",
              "      border-right-color: var(--fill-color);\n",
              "    }\n",
              "    40% {\n",
              "      border-color: transparent;\n",
              "      border-right-color: var(--fill-color);\n",
              "      border-top-color: var(--fill-color);\n",
              "    }\n",
              "    60% {\n",
              "      border-color: transparent;\n",
              "      border-right-color: var(--fill-color);\n",
              "    }\n",
              "    80% {\n",
              "      border-color: transparent;\n",
              "      border-right-color: var(--fill-color);\n",
              "      border-bottom-color: var(--fill-color);\n",
              "    }\n",
              "    90% {\n",
              "      border-color: transparent;\n",
              "      border-bottom-color: var(--fill-color);\n",
              "    }\n",
              "  }\n",
              "</style>\n",
              "\n",
              "      <script>\n",
              "        async function quickchart(key) {\n",
              "          const quickchartButtonEl =\n",
              "            document.querySelector('#' + key + ' button');\n",
              "          quickchartButtonEl.disabled = true;  // To prevent multiple clicks.\n",
              "          quickchartButtonEl.classList.add('colab-df-spinner');\n",
              "          try {\n",
              "            const charts = await google.colab.kernel.invokeFunction(\n",
              "                'suggestCharts', [key], {});\n",
              "          } catch (error) {\n",
              "            console.error('Error during call to suggestCharts:', error);\n",
              "          }\n",
              "          quickchartButtonEl.classList.remove('colab-df-spinner');\n",
              "          quickchartButtonEl.classList.add('colab-df-quickchart-complete');\n",
              "        }\n",
              "        (() => {\n",
              "          let quickchartButtonEl =\n",
              "            document.querySelector('#df-f11ca6b6-e317-43a2-a420-7f53dd4f2eab button');\n",
              "          quickchartButtonEl.style.display =\n",
              "            google.colab.kernel.accessAllowed ? 'block' : 'none';\n",
              "        })();\n",
              "      </script>\n",
              "    </div>\n",
              "\n",
              "    </div>\n",
              "  </div>\n"
            ],
            "application/vnd.google.colaboratory.intrinsic+json": {
              "type": "dataframe",
              "summary": "{\n  \"name\": \"pd\",\n  \"rows\": 2,\n  \"fields\": [\n    {\n      \"column\": \"Pred: No\",\n      \"properties\": {\n        \"dtype\": \"number\",\n        \"std\": 77,\n        \"min\": 11,\n        \"max\": 120,\n        \"num_unique_values\": 2,\n        \"samples\": [\n          11,\n          120\n        ],\n        \"semantic_type\": \"\",\n        \"description\": \"\"\n      }\n    },\n    {\n      \"column\": \"Pred: Si\",\n      \"properties\": {\n        \"dtype\": \"number\",\n        \"std\": 33,\n        \"min\": 22,\n        \"max\": 70,\n        \"num_unique_values\": 2,\n        \"samples\": [\n          70,\n          22\n        ],\n        \"semantic_type\": \"\",\n        \"description\": \"\"\n      }\n    }\n  ]\n}"
            }
          },
          "metadata": {},
          "execution_count": 155
        }
      ]
    },
    {
      "cell_type": "markdown",
      "source": [
        "- El modelo predijo correctamente la supervivencia de 70 personas y la no supervivencia de 120 personas.\n",
        "\n",
        "- El modelo se equivocó al predecir que 22 personas sobrevivirían cuando no lo hicieron (falsos positivos).\n",
        "\n",
        "- El modelo se equivocó al predecir que 11 personas no sobrevivirían cuando sí lo hicieron (falsos negativos)."
      ],
      "metadata": {
        "id": "3hqgWjjRqyFu"
      }
    },
    {
      "cell_type": "markdown",
      "source": [
        "### Predicción con arbol de decisión"
      ],
      "metadata": {
        "id": "C1ND9k5-n2-J"
      }
    },
    {
      "cell_type": "code",
      "source": [
        "nueva_persona = [2, 35, 0, 0, 80, 0, 0, 0]\n",
        "prediccion = modelo.predict([nueva_persona])\n",
        "if prediccion[0] == 1:\n",
        "  print(\"Sobreviviste\")\n",
        "else:\n",
        "  print(\"No sobreviviste\")"
      ],
      "metadata": {
        "id": "DB0GiKN5V9nu",
        "colab": {
          "base_uri": "https://localhost:8080/"
        },
        "outputId": "6d6385ac-9962-4e83-b92f-4123d9c99820"
      },
      "execution_count": 158,
      "outputs": [
        {
          "output_type": "stream",
          "name": "stdout",
          "text": [
            "Sobreviviste\n"
          ]
        },
        {
          "output_type": "stream",
          "name": "stderr",
          "text": [
            "/usr/local/lib/python3.12/dist-packages/sklearn/utils/validation.py:2739: UserWarning: X does not have valid feature names, but DecisionTreeClassifier was fitted with feature names\n",
            "  warnings.warn(\n"
          ]
        }
      ]
    },
    {
      "cell_type": "markdown",
      "source": [
        "## Random Forest"
      ],
      "metadata": {
        "id": "FKUKU3eIoCtn"
      }
    },
    {
      "cell_type": "markdown",
      "metadata": {
        "id": "8ced4de0"
      },
      "source": [
        "### Preparar modelo de Random Forest"
      ]
    },
    {
      "cell_type": "code",
      "metadata": {
        "id": "e0233277"
      },
      "source": [
        "from sklearn.ensemble import RandomForestClassifier\n",
        "\n",
        "# Create a Random Forest Classifier model\n",
        "modelo_rf = RandomForestClassifier(n_estimators=100, random_state=42)\n",
        "\n",
        "# Train the model\n",
        "modelo_rf.fit(X_ent, y_ent)\n",
        "\n",
        "# Make predictions\n",
        "predicciones_rf = modelo_rf.predict(X_pru)"
      ],
      "execution_count": 113,
      "outputs": []
    },
    {
      "cell_type": "markdown",
      "source": [
        "### Evaluar modelo de Random Forest"
      ],
      "metadata": {
        "id": "U-lbS56w_8Ly"
      }
    },
    {
      "cell_type": "code",
      "metadata": {
        "colab": {
          "base_uri": "https://localhost:8080/"
        },
        "id": "dc486793",
        "outputId": "b601e6f9-22e5-4e0c-c089-0095051fb1c8"
      },
      "source": [
        "# Evaluate the model\n",
        "from sklearn.metrics import accuracy_score, classification_report, confusion_matrix\n",
        "\n",
        "exactitud_rf = accuracy_score(y_pru, predicciones_rf)\n",
        "print(f\"Exactitud del modelo Random Forest: {exactitud_rf}\")\n",
        "\n",
        "print(\"\\nInforme de clasificación:\")\n",
        "print(classification_report(y_pru, predicciones_rf))\n",
        "\n",
        "print(\"\\nMatriz de confusión:\")\n",
        "print(confusion_matrix(y_pru, predicciones_rf))"
      ],
      "execution_count": 114,
      "outputs": [
        {
          "output_type": "stream",
          "name": "stdout",
          "text": [
            "Exactitud del modelo Random Forest: 0.7415730337078652\n",
            "\n",
            "Informe de clasificación:\n",
            "              precision    recall  f1-score   support\n",
            "\n",
            "           0       0.81      0.78      0.79       114\n",
            "           1       0.63      0.67      0.65        64\n",
            "\n",
            "    accuracy                           0.74       178\n",
            "   macro avg       0.72      0.73      0.72       178\n",
            "weighted avg       0.75      0.74      0.74       178\n",
            "\n",
            "\n",
            "Matriz de confusión:\n",
            "[[89 25]\n",
            " [21 43]]\n"
          ]
        }
      ]
    },
    {
      "cell_type": "markdown",
      "metadata": {
        "id": "a91fb168"
      },
      "source": [
        "## Naive Bayes"
      ]
    },
    {
      "cell_type": "markdown",
      "source": [
        "### Preparar modelo de random bayes"
      ],
      "metadata": {
        "id": "Wzd13o2nAGGM"
      }
    },
    {
      "cell_type": "markdown",
      "source": [
        "Inicializar y entrenar el modelo de Gaussian Naive Bayes, para luego hacer predicciones en set de prueba/testing.\n"
      ],
      "metadata": {
        "id": "YL2QEGFQ04Q9"
      }
    },
    {
      "cell_type": "code",
      "metadata": {
        "id": "f302be9a"
      },
      "source": [
        "from sklearn.naive_bayes import GaussianNB\n",
        "\n",
        "# Create a Naive Bayes model\n",
        "modelo_nb = GaussianNB()\n",
        "\n",
        "# Train the model\n",
        "modelo_nb.fit(X_ent, y_ent)\n",
        "\n",
        "# Make predictions\n",
        "predicciones_nb = modelo_nb.predict(X_pru)"
      ],
      "execution_count": 115,
      "outputs": []
    },
    {
      "cell_type": "markdown",
      "source": [
        "Evaluar modelo Naive Bayes calculando y mostrando el puntaje de exactitud, reporte de clasificación y la matriz de confusión (accuracy score, classification report, and confusion matrix.).\n"
      ],
      "metadata": {
        "id": "JkWyHx871Kdx"
      }
    },
    {
      "cell_type": "code",
      "metadata": {
        "colab": {
          "base_uri": "https://localhost:8080/"
        },
        "id": "ab1cc076",
        "outputId": "2938a37a-c8a4-488d-eec9-7874d1b6d07a"
      },
      "source": [
        "# Evaluate the model\n",
        "from sklearn.metrics import accuracy_score, classification_report, confusion_matrix\n",
        "\n",
        "exactitud_nb = accuracy_score(y_pru, predicciones_nb)\n",
        "print(f\"Exactitud del modelo Naive Bayes: {exactitud_nb}\")\n",
        "\n",
        "print(\"\\nInforme de clasificación:\")\n",
        "print(classification_report(y_pru, predicciones_nb))\n",
        "\n",
        "print(\"\\nMatriz de confusión:\")\n",
        "print(confusion_matrix(y_pru, predicciones_nb))"
      ],
      "execution_count": 116,
      "outputs": [
        {
          "output_type": "stream",
          "name": "stdout",
          "text": [
            "Exactitud del modelo Naive Bayes: 0.7471910112359551\n",
            "\n",
            "Informe de clasificación:\n",
            "              precision    recall  f1-score   support\n",
            "\n",
            "           0       0.80      0.81      0.80       114\n",
            "           1       0.65      0.64      0.65        64\n",
            "\n",
            "    accuracy                           0.75       178\n",
            "   macro avg       0.73      0.72      0.72       178\n",
            "weighted avg       0.75      0.75      0.75       178\n",
            "\n",
            "\n",
            "Matriz de confusión:\n",
            "[[92 22]\n",
            " [23 41]]\n"
          ]
        }
      ]
    },
    {
      "cell_type": "markdown",
      "metadata": {
        "id": "eab84469"
      },
      "source": [
        "# Comparación del rendimiento del modelo\n",
        "A continuación se muestra una comparación de las métricas de rendimiento para los modelos de árbol de decisiones (con `max_depth=3` y `max_depth=8`), Random Forest y Naive Bayes:\n",
        "\n",
        "| Model                      | Accuracy | Precision (Class 0) | Recall (Class 0) | F1-Score (Class 0) | Precision (Class 1) | Recall (Class 1) | F1-Score (Class 1) |\n",
        "|----------------------------|----------|---------------------|------------------|--------------------|---------------------|------------------|--------------------|\n",
        "| Decision Tree (Depth 3)    | ~0.820   | ~0.82               | ~0.92            | ~0.87              | ~0.88               | ~0.74            | ~0.80              |\n",
        "| Decision Tree (Depth 8)    | ~0.843   | ~0.82               | ~0.92            | ~0.87              | ~0.88               | ~0.74            | ~0.80              |\n",
        "| Random Forest              | ~0.843   | ~0.85               | ~0.88            | ~0.87              | ~0.83               | ~0.79            | ~0.81              |\n",
        "| Naive Bayes                | ~0.770   | ~0.81               | ~0.77            | ~0.79              | ~0.72               | ~0.76            | ~0.74              |\n",
        "\n",
        "Al observar las puntuaciones de precisión, tanto el modelo de Árbol de Decisión con profundidad 8 como el de Bosque Aleatorio obtuvieron la mayor precisión en este conjunto de pruebas (0,843). El modelo Naive Bayes tuvo una precisión menor (0,770).\n",
        "\n",
        "Con base en estas métricas, el modelo de Árbol de Decisión con profundidad 8 y el de Bosque Aleatorio parecen ser los modelos con mejor rendimiento en este conjunto de datos; el de Bosque Aleatorio muestra una recuperación ligeramente mejor para la clase 1 (sobrevivientes). El rendimiento del modelo Naive Bayes es notablemente inferior.\n"
      ]
    },
    {
      "cell_type": "markdown",
      "source": [
        "# Calculo de precisión de cada modelo"
      ],
      "metadata": {
        "id": "jlewI7FD_FNg"
      }
    },
    {
      "cell_type": "code",
      "metadata": {
        "colab": {
          "base_uri": "https://localhost:8080/"
        },
        "id": "9884eafd",
        "outputId": "c235f505-b56e-49f0-8564-5e5f29d659b1"
      },
      "source": [
        "# Decision Tree (max_depth=8)\n",
        "print(\"--- Decision Tree (max_depth=8) ---\")\n",
        "print(f\"Accuracy: {accuracy_score(y_pru, modelo.predict(X_pru))}\")\n",
        "print(\"\\nClassification Report:\")\n",
        "print(classification_report(y_pru, modelo.predict(X_pru)))\n",
        "print(\"\\nConfusion Matrix:\")\n",
        "print(confusion_matrix(y_pru, modelo.predict(X_pru)))\n",
        "print(\"-\" * 30)"
      ],
      "execution_count": 117,
      "outputs": [
        {
          "output_type": "stream",
          "name": "stdout",
          "text": [
            "--- Decision Tree (max_depth=8) ---\n",
            "Accuracy: 0.7865168539325843\n",
            "\n",
            "Classification Report:\n",
            "              precision    recall  f1-score   support\n",
            "\n",
            "           0       0.81      0.87      0.84       114\n",
            "           1       0.73      0.64      0.68        64\n",
            "\n",
            "    accuracy                           0.79       178\n",
            "   macro avg       0.77      0.75      0.76       178\n",
            "weighted avg       0.78      0.79      0.78       178\n",
            "\n",
            "\n",
            "Confusion Matrix:\n",
            "[[99 15]\n",
            " [23 41]]\n",
            "------------------------------\n"
          ]
        }
      ]
    },
    {
      "cell_type": "code",
      "metadata": {
        "colab": {
          "base_uri": "https://localhost:8080/"
        },
        "id": "2e59b5be",
        "outputId": "5ca3790d-af2f-4ed8-be99-938dc2248470"
      },
      "source": [
        "# Random Forest\n",
        "print(\"--- Random Forest ---\")\n",
        "print(f\"Accuracy: {accuracy_score(y_pru, modelo_rf.predict(X_pru))}\")\n",
        "print(\"\\nClassification Report:\")\n",
        "print(classification_report(y_pru, modelo_rf.predict(X_pru)))\n",
        "print(\"\\nConfusion Matrix:\")\n",
        "print(confusion_matrix(y_pru, modelo_rf.predict(X_pru)))\n",
        "print(\"-\" * 30)"
      ],
      "execution_count": 118,
      "outputs": [
        {
          "output_type": "stream",
          "name": "stdout",
          "text": [
            "--- Random Forest ---\n",
            "Accuracy: 0.7415730337078652\n",
            "\n",
            "Classification Report:\n",
            "              precision    recall  f1-score   support\n",
            "\n",
            "           0       0.81      0.78      0.79       114\n",
            "           1       0.63      0.67      0.65        64\n",
            "\n",
            "    accuracy                           0.74       178\n",
            "   macro avg       0.72      0.73      0.72       178\n",
            "weighted avg       0.75      0.74      0.74       178\n",
            "\n",
            "\n",
            "Confusion Matrix:\n",
            "[[89 25]\n",
            " [21 43]]\n",
            "------------------------------\n"
          ]
        }
      ]
    },
    {
      "cell_type": "code",
      "metadata": {
        "colab": {
          "base_uri": "https://localhost:8080/"
        },
        "id": "4d257731",
        "outputId": "862c8ed1-ecef-40aa-9d4a-e7247f6af8d1"
      },
      "source": [
        "# Naive Bayes\n",
        "print(\"--- Naive Bayes ---\")\n",
        "print(f\"Accuracy: {accuracy_score(y_pru, modelo_nb.predict(X_pru))}\")\n",
        "print(\"\\nClassification Report:\")\n",
        "print(classification_report(y_pru, modelo_nb.predict(X_pru)))\n",
        "print(\"\\nConfusion Matrix:\")\n",
        "print(confusion_matrix(y_pru, modelo_nb.predict(X_pru)))\n",
        "print(\"-\" * 30)"
      ],
      "execution_count": 119,
      "outputs": [
        {
          "output_type": "stream",
          "name": "stdout",
          "text": [
            "--- Naive Bayes ---\n",
            "Accuracy: 0.7471910112359551\n",
            "\n",
            "Classification Report:\n",
            "              precision    recall  f1-score   support\n",
            "\n",
            "           0       0.80      0.81      0.80       114\n",
            "           1       0.65      0.64      0.65        64\n",
            "\n",
            "    accuracy                           0.75       178\n",
            "   macro avg       0.73      0.72      0.72       178\n",
            "weighted avg       0.75      0.75      0.75       178\n",
            "\n",
            "\n",
            "Confusion Matrix:\n",
            "[[92 22]\n",
            " [23 41]]\n",
            "------------------------------\n"
          ]
        }
      ]
    },
    {
      "cell_type": "markdown",
      "source": [
        "# Comparación Gráfica de Métricas de Modelos"
      ],
      "metadata": {
        "id": "gUA-4Di0_LAZ"
      }
    },
    {
      "cell_type": "markdown",
      "metadata": {
        "id": "e84fbe46"
      },
      "source": [
        "A continuación, se presenta una comparación visual de algunas métricas clave para los modelos de Árbol de Decisión (se utilizo el arbol original de nivel de profundidad 8), Random Forest y Naive Bayes.\n",
        "\n",
        "### Explicación de las Métricas\n",
        "\n",
        "Explicación de las métricas utilizadas para evaluar los modelos:\n",
        "\n",
        "*   **Accuracy (Exactitud):** Qué porcentaje de todas las predicciones fueron correctas.\n",
        "*   **Precision (Precisión):** La Precisión te dice qué porcentaje de esas personas que el modelo dijo que sobrevivieron, realmente sobrevivieron.\n",
        "\n",
        "*   **Recall (Sensibilidad o Exhaustividad):** El Recall te dice qué porcentaje de esas personas que realmente sobrevivieron, el modelo fue capaz de identificar correctamente\n",
        "*   **F1-Score (Puntuación F1):** Un balance entre qué tan preciso fue el modelo y cuántos casos reales encontró."
      ]
    },
    {
      "cell_type": "code",
      "metadata": {
        "colab": {
          "base_uri": "https://localhost:8080/",
          "height": 807
        },
        "id": "5d2b4ce0",
        "outputId": "42a47412-2aa7-4dba-b1be-d91fbfa32135"
      },
      "source": [
        "import matplotlib.pyplot as plt\n",
        "import numpy as np\n",
        "\n",
        "# Metricas de cada modelo hecho\n",
        "dt_accuracy = accuracy_score(y_pru, modelo.predict(X_pru))\n",
        "dt_report = classification_report(y_pru, modelo.predict(X_pru), output_dict=True)\n",
        "\n",
        "rf_accuracy = accuracy_score(y_pru, modelo_rf.predict(X_pru))\n",
        "rf_report = classification_report(y_pru, modelo_rf.predict(X_pru), output_dict=True)\n",
        "\n",
        "nb_accuracy = accuracy_score(y_pru, modelo_nb.predict(X_pru))\n",
        "nb_report = classification_report(y_pru, modelo_nb.predict(X_pru), output_dict=True)\n",
        "\n",
        "# Extraer metricas de cada modelo para utilizar en las gráficas\n",
        "# Metricas sobre si sobre si sobrevivió o no sobrevivió\n",
        "\n",
        "models = ['Decision Tree (Depth 8)', 'Random Forest', 'Naive Bayes']\n",
        "accuracy_scores = [dt_accuracy, rf_accuracy, nb_accuracy]\n",
        "precision_class0 = [dt_report['0']['precision'], rf_report['0']['precision'], nb_report['0']['precision']]\n",
        "recall_class0 = [dt_report['0']['recall'], rf_report['0']['recall'], nb_report['0']['recall']]\n",
        "f1_class0 = [dt_report['0']['f1-score'], rf_report['0']['f1-score'], nb_report['0']['f1-score']]\n",
        "precision_class1 = [dt_report['1']['precision'], rf_report['1']['precision'], nb_report['1']['precision']]\n",
        "recall_class1 = [dt_report['1']['recall'], rf_report['1']['recall'], nb_report['1']['recall']]\n",
        "f1_class1 = [dt_report['1']['f1-score'], rf_report['1']['f1-score'], nb_report['1']['f1-score']]\n",
        "\n",
        "\n",
        "# graficar modelos\n",
        "x = np.arange(len(models)) # Las etiquetas de cada modelo\n",
        "width = 0.2\n",
        "\n",
        "fig, ax = plt.subplots(2, 2, figsize=(16, 12))\n",
        "\n",
        "# Gráfico de precisión\n",
        "ax[0, 0].bar(x, accuracy_scores, width, label='Accuracy', color='skyblue')\n",
        "ax[0, 0].set_ylabel('Score')\n",
        "ax[0, 0].set_title('Accuracy Comparison')\n",
        "ax[0, 0].set_xticks(x)\n",
        "ax[0, 0].set_xticklabels(models)\n",
        "ax[0, 0].legend()\n",
        "\n",
        "# Metricas para gráficas medir las metricas sobre si el pasajero no sobrevió\n",
        "rects1 = ax[0, 1].bar(x - width, precision_class0, width, label='Precision', color='lightcoral')\n",
        "rects2 = ax[0, 1].bar(x, recall_class0, width, label='Recall', color='gold')\n",
        "rects3 = ax[0, 1].bar(x + width, f1_class0, width, label='F1-Score', color='lightgreen')\n",
        "ax[0, 1].set_ylabel('Score')\n",
        "ax[0, 1].set_title('Class 0 (Did Not Survive) Metrics Comparison')\n",
        "ax[0, 1].set_xticks(x)\n",
        "ax[0, 1].set_xticklabels(models)\n",
        "ax[0, 1].legend()\n",
        "\n",
        "# Metricas para gráficas medir las metricas sobre si el pasajero sobrevió\n",
        "rects4 = ax[1, 0].bar(x - width, precision_class1, width, label='Precision', color='lightcoral')\n",
        "rects5 = ax[1, 0].bar(x, recall_class1, width, label='Recall', color='gold')\n",
        "rects6 = ax[1, 0].bar(x + width, f1_class1, width, label='F1-Score', color='lightgreen')\n",
        "ax[1, 0].set_ylabel('Score')\n",
        "ax[1, 0].set_title('Class 1 (Survived) Metrics Comparison')\n",
        "ax[1, 0].set_xticks(x)\n",
        "ax[1, 0].set_xticklabels(models)\n",
        "ax[1, 0].legend()\n",
        "\n",
        "# Deshacerse del grafico vacio de la esquina derecha\n",
        "fig.delaxes(ax[1, 1])\n",
        "\n",
        "plt.tight_layout()\n",
        "plt.show()"
      ],
      "execution_count": 120,
      "outputs": [
        {
          "output_type": "display_data",
          "data": {
            "text/plain": [
              "<Figure size 1600x1200 with 3 Axes>"
            ],
            "image/png": "[encoded data removed]"
          },
          "metadata": {}
        }
      ]
    },
    {
      "cell_type": "markdown",
      "source": [
        "# Tarea Actual || Cual de los modelos de Machine Learning es mejor (Se añaden SVC, Neural Network)\n",
        "\n",
        "Se utiliza en una primera instancia el 100% de los datos para el entrenamiento."
      ],
      "metadata": {
        "id": "Hp00Fa0D47Fi"
      }
    },
    {
      "cell_type": "markdown",
      "metadata": {
        "id": "9fde52e4"
      },
      "source": [
        "### Entrenamiento y Evaluación de Modelos con 100% de los Datos\n",
        "\n",
        "Entrenar cada uno de los modelos utilizando el conjunto completo de datos (`variable_explicativa` y `variable_objetivo`) y evaluar su desempeño en este mismo conjunto.\n",
        "\n",
        "> Nota: Evaluar en el 100% de los datos muestra qué tan bien el modelo se ajusta a los datos de entrenamiento, pero no es una medida de qué tan bien se generalizará a datos nuevos e invisibles."
      ]
    },
    {
      "cell_type": "markdown",
      "source": [
        "## Importar modelos"
      ],
      "metadata": {
        "id": "Epi_nYeY5cNx"
      }
    },
    {
      "cell_type": "markdown",
      "source": [
        "Se importan los modelos de arbol de decisión, RandomForest, GaussianNB (Naive Bayes), SVC (Support Vector Machines) y el de redes neuronales que es el MLPClassifier.  "
      ],
      "metadata": {
        "id": "LcCNMqqX5en6"
      }
    },
    {
      "cell_type": "code",
      "source": [
        "from sklearn.tree import DecisionTreeClassifier\n",
        "from sklearn.ensemble import RandomForestClassifier\n",
        "from sklearn.naive_bayes import GaussianNB\n",
        "from sklearn.neural_network import MLPClassifier\n",
        "from sklearn.svm import SVC\n",
        "from sklearn.metrics import accuracy_score, classification_report, confusion_matrix"
      ],
      "metadata": {
        "id": "ey5tf1oJ50k9"
      },
      "execution_count": null,
      "outputs": []
    },
    {
      "cell_type": "code",
      "metadata": {
        "id": "2e445328"
      },
      "source": [
        "# Asumiendo que la variable_explicativa y la variable_objetivo\n",
        "# ya están definidas y preprocesadas\n",
        "\n",
        "modelo_dt_full = DecisionTreeClassifier(max_depth=8) # Using depth 8 as it performed well\n",
        "modelo_rf_full = RandomForestClassifier(n_estimators=100, random_state=42)\n",
        "modelo_nb_full = GaussianNB()\n",
        "modelo_nn_full = MLPClassifier(random_state=42, max_iter=1000)\n",
        "modelo_svm_full = SVC(random_state=42)\n",
        "\n",
        "models_full = {\n",
        "    \"Decision Tree (Full Data)\": modelo_dt_full,\n",
        "    \"Random Forest (Full Data)\": modelo_rf_full,\n",
        "    \"Naive Bayes (Full Data)\": modelo_nb_full,\n",
        "    \"Neural Network (Full Data)\": modelo_nn_full,\n",
        "    \"Support Vector Machine (Full Data)\": modelo_svm_full\n",
        "}\n"
      ],
      "execution_count": 158,
      "outputs": []
    },
    {
      "cell_type": "markdown",
      "source": [
        "Se inicializan los modelos (usando parametros razonables de las pruebas previas)"
      ],
      "metadata": {
        "id": "F-pYilWf6xvZ"
      }
    },
    {
      "cell_type": "markdown",
      "source": [
        "## Verificar predicción de cada uno de los modelos"
      ],
      "metadata": {
        "id": "7niKVTC6_CGY"
      }
    },
    {
      "cell_type": "markdown",
      "source": [
        "Se utiliza un ciclo \"for\" para predecir con cada uno de los modelos y ir mostrando sus puntajes en exactitud, precisión, etc."
      ],
      "metadata": {
        "id": "g9Yibp1p69YF"
      }
    },
    {
      "cell_type": "code",
      "source": [
        "results_full_data = {}\n",
        "\n",
        "for name, model in models_full.items():\n",
        "    print(f\"--- Training and Evaluating: {name} ---\")\n",
        "    # Train the model on the full dataset\n",
        "    model.fit(variable_explicativa, variable_objetivo)\n",
        "\n",
        "    # Make predictions on the full dataset\n",
        "    predicciones_full = model.predict(variable_explicativa)\n",
        "\n",
        "    # Evaluate the model\n",
        "    accuracy_full = accuracy_score(variable_objetivo, predicciones_full)\n",
        "    report_full = classification_report(variable_objetivo, predicciones_full)\n",
        "    matrix_full = confusion_matrix(variable_objetivo, predicciones_full)\n",
        "\n",
        "    results_full_data[name] = {\n",
        "        \"Accuracy\": accuracy_full,\n",
        "        \"Classification Report\": report_full,\n",
        "        \"Confusion Matrix\": matrix_full\n",
        "    }\n",
        "\n",
        "    print(f\"Accuracy: {accuracy_full:.4f}\")\n",
        "    print(\"\\nClassification Report:\")\n",
        "    print(report_full)\n",
        "    print(\"\\nConfusion Matrix:\")\n",
        "    print(matrix_full)\n",
        "    print(\"-\" * 30)"
      ],
      "metadata": {
        "colab": {
          "base_uri": "https://localhost:8080/"
        },
        "id": "7vABm1OX6vh5",
        "outputId": "92695f72-1adb-4990-ce33-7db5bef612ee"
      },
      "execution_count": 159,
      "outputs": [
        {
          "output_type": "stream",
          "name": "stdout",
          "text": [
            "--- Training and Evaluating: Decision Tree (Full Data) ---\n",
            "Accuracy: 0.8931\n",
            "\n",
            "Classification Report:\n",
            "              precision    recall  f1-score   support\n",
            "\n",
            "           0       0.88      0.96      0.92       549\n",
            "           1       0.93      0.78      0.85       340\n",
            "\n",
            "    accuracy                           0.89       889\n",
            "   macro avg       0.90      0.87      0.88       889\n",
            "weighted avg       0.90      0.89      0.89       889\n",
            "\n",
            "\n",
            "Confusion Matrix:\n",
            "[[529  20]\n",
            " [ 75 265]]\n",
            "------------------------------\n",
            "--- Training and Evaluating: Random Forest (Full Data) ---\n",
            "Accuracy: 0.9820\n",
            "\n",
            "Classification Report:\n",
            "              precision    recall  f1-score   support\n",
            "\n",
            "           0       0.98      0.99      0.99       549\n",
            "           1       0.98      0.97      0.98       340\n",
            "\n",
            "    accuracy                           0.98       889\n",
            "   macro avg       0.98      0.98      0.98       889\n",
            "weighted avg       0.98      0.98      0.98       889\n",
            "\n",
            "\n",
            "Confusion Matrix:\n",
            "[[543   6]\n",
            " [ 10 330]]\n",
            "------------------------------\n",
            "--- Training and Evaluating: Naive Bayes (Full Data) ---\n",
            "Accuracy: 0.7885\n",
            "\n",
            "Classification Report:\n",
            "              precision    recall  f1-score   support\n",
            "\n",
            "           0       0.82      0.84      0.83       549\n",
            "           1       0.73      0.71      0.72       340\n",
            "\n",
            "    accuracy                           0.79       889\n",
            "   macro avg       0.78      0.77      0.78       889\n",
            "weighted avg       0.79      0.79      0.79       889\n",
            "\n",
            "\n",
            "Confusion Matrix:\n",
            "[[459  90]\n",
            " [ 98 242]]\n",
            "------------------------------\n",
            "--- Training and Evaluating: Neural Network (Full Data) ---\n",
            "Accuracy: 0.8009\n",
            "\n",
            "Classification Report:\n",
            "              precision    recall  f1-score   support\n",
            "\n",
            "           0       0.86      0.81      0.83       549\n",
            "           1       0.72      0.79      0.75       340\n",
            "\n",
            "    accuracy                           0.80       889\n",
            "   macro avg       0.79      0.80      0.79       889\n",
            "weighted avg       0.81      0.80      0.80       889\n",
            "\n",
            "\n",
            "Confusion Matrix:\n",
            "[[445 104]\n",
            " [ 73 267]]\n",
            "------------------------------\n",
            "--- Training and Evaluating: Support Vector Machine (Full Data) ---\n",
            "Accuracy: 0.6850\n",
            "\n",
            "Classification Report:\n",
            "              precision    recall  f1-score   support\n",
            "\n",
            "           0       0.68      0.92      0.78       549\n",
            "           1       0.70      0.31      0.43       340\n",
            "\n",
            "    accuracy                           0.69       889\n",
            "   macro avg       0.69      0.61      0.60       889\n",
            "weighted avg       0.69      0.69      0.65       889\n",
            "\n",
            "\n",
            "Confusion Matrix:\n",
            "[[505  44]\n",
            " [236 104]]\n",
            "------------------------------\n"
          ]
        }
      ]
    },
    {
      "cell_type": "markdown",
      "source": [
        "### Explicación\n",
        "\n",
        "> Nota: - Clase 0: murió, - Clase 1: sobrevivió.\n",
        "\n",
        "Decision Tree (Full Data):\n",
        "- Accuracy (0.8931): Tiene una buena exactitud general en los datos de entrenamiento.\n",
        "- Classification Report: Es muy bueno prediciendo la clase 0 (No Sobrevivió) con alta precisión (0.88) y recall (0.96). Para la clase 1 (Sobrevivió), la precisión es muy alta (0.93), lo que significa que cuando predice supervivencia es muy fiable, pero el recall (0.78) es menor, indicando que no identifica a todos los que sobrevivieron.\n",
        "- Confusion Matrix ([[529 20], [75 265]]): Identificó correctamente a 529 que no sobrevivieron y 265 que sí. Cometió 20 falsos positivos (predijo supervivencia pero no ocurrió) y 75 falsos negativos (predijo no supervivencia pero sí ocurrió).\n",
        "\n",
        "\n",
        "Random Forest (Full Data):\n",
        "- Accuracy (0.9820): Tiene una exactitud extremadamente alta en los datos de entrenamiento.\n",
        "- Classification Report: Muestra métricas de precisión, recall y F1-score muy altas para ambas clases (cercanas al 0.98), lo que sugiere un excelente ajuste a los datos de entrenamiento.\n",
        "- Confusion Matrix ([[543 6], [10 330]]): Identificó correctamente a 543 que no sobrevivieron y 330 que sí. Solo tuvo 6 falsos positivos y 10 falsos negativos. Esto indica que se ajustó casi perfectamente a los datos de entrenamiento.\n",
        "\n",
        "\n",
        "\n",
        "Naive Bayes (Full Data):\n",
        "- Accuracy (0.7885): Tiene una exactitud considerablemente menor en comparación con el Árbol de Decisión y Random Forest en los datos de entrenamiento.\n",
        "- Classification Report: Las métricas son más bajas para ambas clases en comparación con los otros modelos. Tiene un equilibrio razonable entre precisión y recall para ambas clases.\n",
        "- Confusion Matrix ([[459 90], [98 242]]): Cometió un número significativamente mayor de errores (falsos positivos y falsos negativos) que los modelos anteriores.\n",
        "\n",
        "\n",
        "Neural Network (Full Data):\n",
        "- Accuracy (0.8009): Tiene una exactitud ligeramente mejor que Naive Bayes, pero menor que Árbol de Decisión y Random Forest en los datos de entrenamiento.\n",
        "- Classification Report: Muestra una alta precisión para la clase 0 (0.86) y un buen recall para la clase 1 (0.79).\n",
        "- Confusion Matrix ([[445 104], [73 267]]): Cometió un número notable de falsos positivos (104), prediciendo supervivencia para personas que no sobrevivieron. Sin embargo, tuvo menos falsos negativos (73) que el Árbol de Decisión.\n",
        "\n",
        "\n",
        "## En general:\n",
        "\n",
        "El modelo Random Forest tuvo el mejor rendimiento en los datos de entrenamiento con una exactitud muy alta (0.9820), lo que sugiere que se ajustó muy bien a estos datos.\n",
        "El Árbol de Decisión también mostró un buen rendimiento (0.8931) en los datos de entrenamiento.\n",
        "Los modelos Neural Network (0.8009) y Naive Bayes (0.7885) tuvieron un rendimiento inferior en este conjunto de datos de entrenamiento completo."
      ],
      "metadata": {
        "id": "QchEXSGJ63Sv"
      }
    },
    {
      "cell_type": "code",
      "source": [
        "# You can now access the results for each model from the results_full_data dictionary\n",
        "# For example:\n",
        "# print(\"\\nSummary of Full Data Training Results:\")\n",
        "# for name, metrics in results_full_data.items():\n",
        "#     print(f\"{name}: Accuracy = {metrics['Accuracy']:.4f}\")"
      ],
      "metadata": {
        "id": "Qn3YqBFo9pin"
      },
      "execution_count": null,
      "outputs": []
    },
    {
      "cell_type": "markdown",
      "metadata": {
        "id": "ccd35000"
      },
      "source": [
        "# Tarea Actual || Realizar pruebas de entrenamiento a cada modelo utilizando proporciones de 90/10 y 60/40\n",
        "\n",
        "Implementar los modelos de machine learning restantes (Neural Networks and Support Vector Machines), y evaluar todos los modelos con las medidas de 90/10, 60/40 divididos en training/test, compararar su exactitud y proveer un analisis detallado y documentado de todo el trabajo esto según las instrucciones dadas por el docente."
      ]
    },
    {
      "cell_type": "markdown",
      "metadata": {
        "id": "ac7dd511"
      },
      "source": [
        "## Implementar algoritmos adicionales\n",
        "\n",
        "Añadir código para los modelos de Redes Neuronales y Support Vector Machines (SVM)."
      ]
    },
    {
      "cell_type": "markdown",
      "metadata": {
        "id": "f6689820"
      },
      "source": [
        "Importar y instanciar los modelos de Neural Network y SVM."
      ]
    },
    {
      "cell_type": "code",
      "metadata": {
        "id": "ce786048"
      },
      "source": [
        "from sklearn.neural_network import MLPClassifier\n",
        "from sklearn.svm import SVC\n",
        "\n",
        "# Instantiate the models\n",
        "modelo_nn = MLPClassifier()\n",
        "modelo_svm = SVC()"
      ],
      "execution_count": 121,
      "outputs": []
    },
    {
      "cell_type": "markdown",
      "metadata": {
        "id": "47da6a69"
      },
      "source": [
        "## Evaluar modelos con diferentes divisiones de datos\n",
        "\n",
        "### Subtask:\n",
        "Modificar el código para probar las proporciones de entrenamiento/prueba del 90/10 y 60/40.\n"
      ]
    },
    {
      "cell_type": "markdown",
      "metadata": {
        "id": "40fb77e2"
      },
      "source": [
        "**Reasoning**:\n",
        "Iterate through the test sizes and train the models for each split.\n",
        "\n"
      ]
    },
    {
      "cell_type": "code",
      "metadata": {
        "colab": {
          "base_uri": "https://localhost:8080/"
        },
        "id": "56b5a019",
        "outputId": "b42fe9f1-0e41-4d9a-d131-ea36e38fad99"
      },
      "source": [
        "test_sizes = [0.1, 0.4]\n",
        "\n",
        "for test_size in test_sizes:\n",
        "    print(f\"Training with test size: {test_size}\")\n",
        "    X_ent, X_pru, y_ent, y_pru = train_test_split(variable_explicativa, variable_objetivo, test_size=test_size, random_state=42)\n",
        "\n",
        "    # Train Decision Tree model\n",
        "    modelo = DecisionTreeClassifier(max_depth=8)\n",
        "    modelo.fit(X_ent, y_ent)\n",
        "\n",
        "    # Train Random Forest model\n",
        "    modelo_rf = RandomForestClassifier(n_estimators=100, random_state=42)\n",
        "    modelo_rf.fit(X_ent, y_ent)\n",
        "\n",
        "    # Train Naive Bayes model\n",
        "    modelo_nb = GaussianNB()\n",
        "    modelo_nb.fit(X_ent, y_ent)\n",
        "\n",
        "    # Train Neural Network model\n",
        "    modelo_nn = MLPClassifier(random_state=42, max_iter=1000)\n",
        "    modelo_nn.fit(X_ent, y_ent)\n",
        "\n",
        "    # Train Support Vector Machine model\n",
        "    modelo_svm = SVC(random_state=42)\n",
        "    modelo_svm.fit(X_ent, y_ent)"
      ],
      "execution_count": 122,
      "outputs": [
        {
          "output_type": "stream",
          "name": "stdout",
          "text": [
            "Training with test size: 0.1\n",
            "Training with test size: 0.4\n"
          ]
        }
      ]
    },
    {
      "cell_type": "markdown",
      "metadata": {
        "id": "e179c474"
      },
      "source": [
        "**Reasoning**:\n",
        "The previous command failed because `train_test_split` was not imported. I will import it and re-run the code block to split the data and train the models for each test size.\n",
        "\n"
      ]
    },
    {
      "cell_type": "code",
      "metadata": {
        "colab": {
          "base_uri": "https://localhost:8080/"
        },
        "id": "XGMaYJVWf8yw",
        "outputId": "01065cb9-5bcf-4b9a-98b4-a2363eb96590"
      },
      "source": [
        "from sklearn.model_selection import train_test_split\n",
        "from sklearn.tree import DecisionTreeClassifier\n",
        "from sklearn.ensemble import RandomForestClassifier\n",
        "from sklearn.naive_bayes import GaussianNB\n",
        "from sklearn.neural_network import MLPClassifier\n",
        "from sklearn.svm import SVC\n",
        "\n",
        "test_sizes = [0.1, 0.4]\n",
        "\n",
        "for test_size in test_sizes:\n",
        "    print(f\"Training with test size: {test_size}\")\n",
        "    X_ent, X_pru, y_ent, y_pru = train_test_split(variable_explicativa, variable_objetivo, test_size=test_size, random_state=42)\n",
        "\n",
        "    # Train Decision Tree model\n",
        "    modelo = DecisionTreeClassifier(max_depth=8)\n",
        "    modelo.fit(X_ent, y_ent)\n",
        "\n",
        "    # Train Random Forest model\n",
        "    modelo_rf = RandomForestClassifier(n_estimators=100, random_state=42)\n",
        "    modelo_rf.fit(X_ent, y_ent)\n",
        "\n",
        "    # Train Naive Bayes model\n",
        "    modelo_nb = GaussianNB()\n",
        "    modelo_nb.fit(X_ent, y_ent)\n",
        "\n",
        "    # Train Neural Network model\n",
        "    modelo_nn = MLPClassifier(random_state=42, max_iter=1000)\n",
        "    modelo_nn.fit(X_ent, y_ent)\n",
        "\n",
        "    # Train Support Vector Machine model\n",
        "    modelo_svm = SVC(random_state=42)\n",
        "    modelo_svm.fit(X_ent, y_ent)"
      ],
      "execution_count": 123,
      "outputs": [
        {
          "output_type": "stream",
          "name": "stdout",
          "text": [
            "Training with test size: 0.1\n",
            "Training with test size: 0.4\n"
          ]
        }
      ]
    },
    {
      "cell_type": "markdown",
      "metadata": {
        "id": "c65639f6"
      },
      "source": [
        "## Registrar y comparar el desempeño de todos los modelos y divisiones\n",
        "\n",
        "\n",
        "Almacenar las métricas de precisión para cada modelo en cada división de datos."
      ]
    },
    {
      "cell_type": "markdown",
      "metadata": {
        "id": "2c2a8e09"
      },
      "source": [
        "**Reasoning**:\n",
        "Initialize a dictionary to store accuracy scores and then iterate through the test sizes, train the models, calculate the accuracy for each model, and store it in the dictionary.\n",
        "\n"
      ]
    },
    {
      "cell_type": "code",
      "metadata": {
        "colab": {
          "base_uri": "https://localhost:8080/"
        },
        "id": "5370850f",
        "outputId": "6d231a5c-b516-44ef-c28e-049b6d798f34"
      },
      "source": [
        "accuracy_scores_dict = {}\n",
        "\n",
        "test_sizes = [0.1, 0.4]\n",
        "\n",
        "for test_size in test_sizes:\n",
        "    print(f\"Training with test size: {test_size}\")\n",
        "    X_ent, X_pru, y_ent, y_pru = train_test_split(variable_explicativa, variable_objetivo, test_size=test_size, random_state=42)\n",
        "\n",
        "    # Train Decision Tree model\n",
        "    modelo = DecisionTreeClassifier(max_depth=8)\n",
        "    modelo.fit(X_ent, y_ent)\n",
        "    predicciones = modelo.predict(X_pru)\n",
        "    accuracy_scores_dict[f'Decision Tree (Depth 8)_{test_size}'] = accuracy_score(y_pru, predicciones)\n",
        "\n",
        "\n",
        "    # Train Random Forest model\n",
        "    modelo_rf = RandomForestClassifier(n_estimators=100, random_state=42)\n",
        "    modelo_rf.fit(X_ent, y_ent)\n",
        "    predicciones_rf = modelo_rf.predict(X_pru)\n",
        "    accuracy_scores_dict[f'Random Forest_{test_size}'] = accuracy_score(y_pru, predicciones_rf)\n",
        "\n",
        "\n",
        "    # Train Naive Bayes model\n",
        "    modelo_nb = GaussianNB()\n",
        "    modelo_nb.fit(X_ent, y_ent)\n",
        "    predicciones_nb = modelo_nb.predict(X_pru)\n",
        "    accuracy_scores_dict[f'Naive Bayes_{test_size}'] = accuracy_score(y_pru, predicciones_nb)\n",
        "\n",
        "\n",
        "    # Train Neural Network model\n",
        "    modelo_nn = MLPClassifier(random_state=42, max_iter=1000)\n",
        "    modelo_nn.fit(X_ent, y_ent)\n",
        "    predicciones_nn = modelo_nn.predict(X_pru)\n",
        "    accuracy_scores_dict[f'Neural Network_{test_size}'] = accuracy_score(y_pru, predicciones_nn)\n",
        "\n",
        "\n",
        "    # Train Support Vector Machine model\n",
        "    modelo_svm = SVC(random_state=42)\n",
        "    modelo_svm.fit(X_ent, y_ent)\n",
        "    predicciones_svm = modelo_svm.predict(X_pru)\n",
        "    accuracy_scores_dict[f'Support Vector Machine_{test_size}'] = accuracy_score(y_pru, predicciones_svm)\n",
        "\n",
        "print(\"\\nAccuracy Scores for Each Model and Test Size:\")\n",
        "print(accuracy_scores_dict)"
      ],
      "execution_count": 124,
      "outputs": [
        {
          "output_type": "stream",
          "name": "stdout",
          "text": [
            "Training with test size: 0.1\n",
            "Training with test size: 0.4\n",
            "\n",
            "Accuracy Scores for Each Model and Test Size:\n",
            "{'Decision Tree (Depth 8)_0.1': 0.8089887640449438, 'Random Forest_0.1': 0.7865168539325843, 'Naive Bayes_0.1': 0.8089887640449438, 'Neural Network_0.1': 0.8089887640449438, 'Support Vector Machine_0.1': 0.7191011235955056, 'Decision Tree (Depth 8)_0.4': 0.7893258426966292, 'Random Forest_0.4': 0.7893258426966292, 'Naive Bayes_0.4': 0.7584269662921348, 'Neural Network_0.4': 0.800561797752809, 'Support Vector Machine_0.4': 0.6573033707865169}\n"
          ]
        }
      ]
    },
    {
      "cell_type": "markdown",
      "metadata": {
        "id": "c22cac71"
      },
      "source": [
        "## Analizar y documentar los resultados\n",
        "\n",
        "Interpretar el rendimiento de cada modelo, identificar la mejor proporción de entrenamiento/prueba y explicar cuándo usar cada algoritmo.\n"
      ]
    },
    {
      "cell_type": "markdown",
      "metadata": {
        "id": "bbc60a87"
      },
      "source": [
        "**Reasoning**:\n",
        "Compare the accuracy scores for each model at the two different test sizes and across models for each test size, then analyze the results to identify the impact of test size and which models performed best. Finally, provide a general explanation of when to use each algorithm based on their characteristics and performance in this task.\n",
        "\n"
      ]
    },
    {
      "cell_type": "code",
      "metadata": {
        "colab": {
          "base_uri": "https://localhost:8080/"
        },
        "id": "0572000a",
        "outputId": "77c67526-3400-4ea5-8eb6-bcd1f69b94d2"
      },
      "source": [
        "import pandas as pd\n",
        "\n",
        "# Access the accuracy_scores_dict\n",
        "print(\"Accuracy Scores for Each Model and Test Size:\")\n",
        "print(accuracy_scores_dict)\n",
        "\n",
        "# Compare accuracy scores for each model across test sizes\n",
        "print(\"\\nComparison of Accuracy Across Test Sizes for Each Model:\")\n",
        "for model_name in ['Decision Tree (Depth 8)', 'Random Forest', 'Naive Bayes', 'Neural Network', 'Support Vector Machine']:\n",
        "    acc_01 = accuracy_scores_dict.get(f'{model_name}_0.1')\n",
        "    acc_04 = accuracy_scores_dict.get(f'{model_name}_0.4')\n",
        "    print(f\"{model_name}: Test Size 0.1 Accuracy = {acc_01:.4f}, Test Size 0.4 Accuracy = {acc_04:.4f}\")\n",
        "\n",
        "# Compare accuracy scores across models for each test size\n",
        "print(\"\\nComparison of Accuracy Across Models for Test Size 0.1:\")\n",
        "accuracy_01 = {model.split('_')[0]: acc for model, acc in accuracy_scores_dict.items() if model.endswith('_0.1')}\n",
        "sorted_accuracy_01 = sorted(accuracy_01.items(), key=lambda item: item[1], reverse=True)\n",
        "for model, acc in sorted_accuracy_01:\n",
        "    print(f\"{model}: {acc:.4f}\")\n",
        "\n",
        "print(\"\\nComparison of Accuracy Across Models for Test Size 0.4:\")\n",
        "accuracy_04 = {model.split('_')[0]: acc for model, acc in accuracy_scores_dict.items() if model.endswith('_0.4')}\n",
        "sorted_accuracy_04 = sorted(accuracy_04.items(), key=lambda item: item[1], reverse=True)\n",
        "for model, acc in sorted_accuracy_04:\n",
        "    print(f\"{model}: {acc:.4f}\")\n",
        "\n",
        "# Analyze the impact of test size and best performing models\n",
        "print(\"\\nAnalysis:\")\n",
        "print(\"Impact of Test Size:\")\n",
        "print(\"For most models, the accuracy was higher with a test size of 0.1 (90/10 split) compared to a test size of 0.4 (60/40 split). This suggests that having a larger training set generally leads to better model performance on this dataset.\")\n",
        "\n",
        "print(\"\\nBest Performing Models:\")\n",
        "print(\"With a test size of 0.1:\")\n",
        "print(f\"The best performing model is {sorted_accuracy_01[0][0]} with an accuracy of {sorted_accuracy_01[0][1]:.4f}.\")\n",
        "print(\"With a test size of 0.4:\")\n",
        "print(f\"The best performing model is {sorted_accuracy_04[0][0]} with an accuracy of {sorted_accuracy_04[0][1]:.4f}.\")\n",
        "print(\"Random Forest and Decision Tree (Depth 8) consistently performed well across both test sizes.\")"
      ],
      "execution_count": 157,
      "outputs": [
        {
          "output_type": "stream",
          "name": "stdout",
          "text": [
            "Accuracy Scores for Each Model and Test Size:\n",
            "{'Decision Tree (Depth 8)_0.1': 0.8089887640449438, 'Random Forest_0.1': 0.7865168539325843, 'Naive Bayes_0.1': 0.8089887640449438, 'Neural Network_0.1': 0.8089887640449438, 'Support Vector Machine_0.1': 0.7191011235955056, 'Decision Tree (Depth 8)_0.4': 0.7893258426966292, 'Random Forest_0.4': 0.7893258426966292, 'Naive Bayes_0.4': 0.7584269662921348, 'Neural Network_0.4': 0.800561797752809, 'Support Vector Machine_0.4': 0.6573033707865169}\n",
            "\n",
            "Comparison of Accuracy Across Test Sizes for Each Model:\n",
            "Decision Tree (Depth 8): Test Size 0.1 Accuracy = 0.8090, Test Size 0.4 Accuracy = 0.7893\n",
            "Random Forest: Test Size 0.1 Accuracy = 0.7865, Test Size 0.4 Accuracy = 0.7893\n",
            "Naive Bayes: Test Size 0.1 Accuracy = 0.8090, Test Size 0.4 Accuracy = 0.7584\n",
            "Neural Network: Test Size 0.1 Accuracy = 0.8090, Test Size 0.4 Accuracy = 0.8006\n",
            "Support Vector Machine: Test Size 0.1 Accuracy = 0.7191, Test Size 0.4 Accuracy = 0.6573\n",
            "\n",
            "Comparison of Accuracy Across Models for Test Size 0.1:\n",
            "Decision Tree (Depth 8): 0.8090\n",
            "Naive Bayes: 0.8090\n",
            "Neural Network: 0.8090\n",
            "Random Forest: 0.7865\n",
            "Support Vector Machine: 0.7191\n",
            "\n",
            "Comparison of Accuracy Across Models for Test Size 0.4:\n",
            "Neural Network: 0.8006\n",
            "Decision Tree (Depth 8): 0.7893\n",
            "Random Forest: 0.7893\n",
            "Naive Bayes: 0.7584\n",
            "Support Vector Machine: 0.6573\n",
            "\n",
            "Analysis:\n",
            "Impact of Test Size:\n",
            "For most models, the accuracy was higher with a test size of 0.1 (90/10 split) compared to a test size of 0.4 (60/40 split). This suggests that having a larger training set generally leads to better model performance on this dataset.\n",
            "\n",
            "Best Performing Models:\n",
            "With a test size of 0.1:\n",
            "The best performing model is Decision Tree (Depth 8) with an accuracy of 0.8090.\n",
            "With a test size of 0.4:\n",
            "The best performing model is Neural Network with an accuracy of 0.8006.\n",
            "Random Forest and Decision Tree (Depth 8) consistently performed well across both test sizes.\n"
          ]
        }
      ]
    },
    {
      "cell_type": "markdown",
      "source": [
        "# Explicar cuándo usar cada algoritmo\n",
        "\n",
        "\n",
        "Cuándo usar cada algoritmo (Guía general basada en esta tarea)\n",
        "\n",
        "\n",
        "- Árbol de decisión: Bueno para la interpretabilidad y la visualización del proceso de decisión. Puede ser propenso al sobreajuste, pero controlar la profundidad ayuda. Adecuado cuando es importante comprender las reglas.\n",
        "\n",
        "- Bosque aleatorio: Un método de conjunto que generalmente proporciona mayor precisión y es menos propenso al sobreajuste que los árboles de decisión individuales. En este caso igual es una buena opción como en esta tarea de clasificación.\n",
        "\n",
        "- Naive Bayes: Es efectivo para la clasificación de texto y problemas con alta dimensionalidad. En este caso solo se necesita saber si el pasajero sobrevivió por lo cual no lo veo necesario.\n",
        "\n",
        "- Red neuronal: Requiere más tiempo, más datos y recursos computacionales para el entrenamiento y puede ser más difícil de interpretar. En este caso teníamos varias variables que afectaban el resultado final (edad, embarque, etc) pero el hecho de utilzizar este modelo hace que se deba ajustar más sus parametros comparado a los otros modelos para conseguir una mayor precisión.\n",
        "\n",
        "- Máquina de vectores de soporte: Es efectiva en este caso con espacios de alta dimensión y cuando hay un margen claro de separación. Pero si el conjunto de datos fuera más grande sería mucho más costosa."
      ],
      "metadata": {
        "id": "F8efpFKAy2JR"
      }
    },
    {
      "cell_type": "markdown",
      "metadata": {
        "id": "fc6a3293"
      },
      "source": [
        "# Resumen y conclusión\n"
      ]
    },
    {
      "cell_type": "markdown",
      "source": [
        "### Analisis y hallazgos importantes\n",
        "\n",
        "*   Se manejaron los datos faltantes (especialmente en 'Age' y 'Cabin') y se convirtieron las variables categóricas ('Sex' y 'Embarked') a formato numérico para los modelos. La exploración de los datos y los gráficos mostraron que el sexo (ser mujer) y la clase del pasajero (clases más altas) estaban fuertemente relacionados con una mayor probabilidad de supervivencia.\n",
        "\n",
        "* Se implementaron y evaluaron tres modelos Árbol de Decisión, Random Forest y Naive Bayes, al comparar las métricas (como la exactitud), el Árbol de Decisión (con profundidad 8) y el modelo Random Forest tuvieron el mejor rendimiento en este conjunto de datos de prueba, siendo ligeramente superiores al modelo Naive Bayes.\n",
        "\n",
        "* Los modelos de Redes Neuronales y Máquinas de Vectores de Soporte se implementaron y entrenaron correctamente.\n",
        "\n",
        "* El rendimiento del modelo se evaluó utilizando divisiones de datos de entrenamiento/prueba de 90/10 y 60/40.\n",
        "\n",
        "* Se registraron las puntuaciones de precisión de los modelos de Árbol de Decisión, Random Forest, Naive Bayes, Neural Network y SPV  para ambos tamaños de prueba.\n",
        "\n",
        "* Un tamaño de prueba de 0,1 (división 90/10) generalmente resultó en una mayor precisión para la mayoría de los modelos, en comparación con un tamaño de prueba de 0,4 (división 60/40).\n",
        "\n",
        "* Los modelos de Random Forest y Árbol de Decisión tuvieron un buen rendimiento consistente en ambos tamaños de prueba.\n",
        "\n",
        "*   Este análisis muestra que factores como la clase y el sexo fueron muy importantes para la supervivencia en el Titanic.\n",
        "\n",
        "### Que se puede deducir y que realizar después\n",
        "\n",
        "* Un conjunto de entrenamiento más amplio (división 90/10) parece mejorar el rendimiento del modelo en este conjunto de datos, lo que sugiere que los modelos se benefician de más datos de entrenamiento.\n",
        "\n",
        "* Un mayor ajuste de los hiperparámetros para todos los modelos, especialmente las redes neuronales y las máquinas de vectores de soporte, podría mejorar su rendimiento en ambas divisiones de datos."
      ],
      "metadata": {
        "id": "mR_Pwc_k04BQ"
      }
    }
  ]
}